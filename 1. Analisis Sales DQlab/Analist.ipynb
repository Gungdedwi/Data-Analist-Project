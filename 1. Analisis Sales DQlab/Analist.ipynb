{
 "cells": [
  {
   "cell_type": "markdown",
   "metadata": {},
   "source": [
    "Phase 1:\n",
    "\n",
    "Business Identification:\n",
    "\n",
    "a. Dataset Analysis\n",
    "\n",
    "b. made good recommendations for DQLab\n",
    "\n",
    "Helpful question\n",
    "1. How much is the sales revenue from the sale of DQlab?\n",
    "2. How much is the net profit margin from the DQlab sale?\n",
    "3. How much is the cost of customer acquisition (CAC) from DQlab sales?\n",
    "\n",
    "\n",
    "Stakeholders\n",
    "Main\n",
    "DQLab Owner: One of the founders of DQLab\n",
    "\n",
    "Secondary\n",
    "DQlab marketing analytics team: A team of data analysts responsible for collecting, analyzing, and reporting data that can help build DQlab's marketing strategy"
   ]
  },
  {
   "cell_type": "markdown",
   "metadata": {},
   "source": [
    "Phase 2 Prepare data:\n",
    "\n",
    "A. Data identification\n",
    "\n",
    "Dataset: DQLAB historical sales data This Kaggle dataset contains 3 product categories, namely office supplies, technology, and furniture. Each category has several subcategories. The company also runs promotions in the form of discounts.\n",
    "\n",
    "B. Look at the credibility of the data.\n",
    "\n",
    "I'd use the ROCCC method to see if the data is credible.\n",
    "\n",
    "1. Reliability: the data is still not reliable because it does not display the amount of margin of error and a small sample size (30 participants) is not found; this is necessary in order to limit the number of analyses that can be performed.\n",
    "\n",
    "2. Original: This data is original because it uses a data set from a direct company, namely DQLab, but was downloaded via a third party, namely Kagle.\n",
    "\n",
    "3. Comprehensive: This dataset is not comprehensive because it does not provide information in the form of gender, age, purchase status, etc. which means the data is not random. If the data is biased, the information in the data will make the analysis unacceptable.\n",
    "\n",
    "4. Current: This data was taken in 2009–2012, which is outdated. So it can be concluded that the data does not represent the original data.\n",
    "\n",
    "5. Cited: In accordance with the previous discussion, this data was taken from the Keagel account named Dhany Farras Putra, but there is a link that leads directly to the DQLab website.\n",
    "\n",
    "Data integrity and credibility are clearly not enough to provide DQlab with reliable and comprehensive insights. Therefore, the following analysis can only provide the first clues and directions that must be verified through the analysis of larger and much more reliable data sets."
   ]
  },
  {
   "cell_type": "markdown",
   "metadata": {},
   "source": [
    "Phase 3 Proseses\n",
    "Pada proses ini akan menggunakan python"
   ]
  },
  {
   "cell_type": "markdown",
   "metadata": {},
   "source": [
    "Cleaning Data Project"
   ]
  },
  {
   "cell_type": "code",
   "execution_count": 1,
   "metadata": {},
   "outputs": [],
   "source": [
    "# Import Library\n",
    "import pandas as pd\n",
    "import numpy as np\n",
    "import plotly.express as px\n",
    "import matplotlib.pyplot as plt\n",
    "import seaborn as sns"
   ]
  },
  {
   "cell_type": "code",
   "execution_count": 2,
   "metadata": {},
   "outputs": [],
   "source": [
    "# Import Dataset\n",
    "df_raw = pd.read_csv('raw_data.csv')\n"
   ]
  },
  {
   "cell_type": "markdown",
   "metadata": {},
   "source": [
    "See the top 5 and bottom 5 data sets. "
   ]
  },
  {
   "cell_type": "code",
   "execution_count": 3,
   "metadata": {},
   "outputs": [
    {
     "data": {
      "text/html": [
       "<div>\n",
       "<style scoped>\n",
       "    .dataframe tbody tr th:only-of-type {\n",
       "        vertical-align: middle;\n",
       "    }\n",
       "\n",
       "    .dataframe tbody tr th {\n",
       "        vertical-align: top;\n",
       "    }\n",
       "\n",
       "    .dataframe thead th {\n",
       "        text-align: right;\n",
       "    }\n",
       "</style>\n",
       "<table border=\"1\" class=\"dataframe\">\n",
       "  <thead>\n",
       "    <tr style=\"text-align: right;\">\n",
       "      <th></th>\n",
       "      <th>order_id | order_status    | customer               | order_date | order_quantity | sales     | discount | discount_value | product_category | product_sub_category           |</th>\n",
       "    </tr>\n",
       "  </thead>\n",
       "  <tbody>\n",
       "    <tr>\n",
       "      <th>0</th>\n",
       "      <td>+----------+-----------------+----------------...</td>\n",
       "    </tr>\n",
       "    <tr>\n",
       "      <th>1</th>\n",
       "      <td>|        3 | Order Finished  | Muhammed MacInt...</td>\n",
       "    </tr>\n",
       "    <tr>\n",
       "      <th>2</th>\n",
       "      <td>|      293 | Order Finished  | Barry French   ...</td>\n",
       "    </tr>\n",
       "    <tr>\n",
       "      <th>3</th>\n",
       "      <td>|      483 | Order Finished  | Clay Rozendal  ...</td>\n",
       "    </tr>\n",
       "    <tr>\n",
       "      <th>4</th>\n",
       "      <td>|      515 | Order Finished  | Carlos Soltero ...</td>\n",
       "    </tr>\n",
       "  </tbody>\n",
       "</table>\n",
       "</div>"
      ],
      "text/plain": [
       "   order_id | order_status    | customer               | order_date | order_quantity | sales     | discount | discount_value | product_category | product_sub_category           |\n",
       "0  +----------+-----------------+----------------...                                                                                                                              \n",
       "1  |        3 | Order Finished  | Muhammed MacInt...                                                                                                                              \n",
       "2  |      293 | Order Finished  | Barry French   ...                                                                                                                              \n",
       "3  |      483 | Order Finished  | Clay Rozendal  ...                                                                                                                              \n",
       "4  |      515 | Order Finished  | Carlos Soltero ...                                                                                                                              "
      ]
     },
     "execution_count": 3,
     "metadata": {},
     "output_type": "execute_result"
    }
   ],
   "source": [
    "df_raw.head()\n"
   ]
  },
  {
   "cell_type": "code",
   "execution_count": 4,
   "metadata": {},
   "outputs": [
    {
     "data": {
      "text/html": [
       "<div>\n",
       "<style scoped>\n",
       "    .dataframe tbody tr th:only-of-type {\n",
       "        vertical-align: middle;\n",
       "    }\n",
       "\n",
       "    .dataframe tbody tr th {\n",
       "        vertical-align: top;\n",
       "    }\n",
       "\n",
       "    .dataframe thead th {\n",
       "        text-align: right;\n",
       "    }\n",
       "</style>\n",
       "<table border=\"1\" class=\"dataframe\">\n",
       "  <thead>\n",
       "    <tr style=\"text-align: right;\">\n",
       "      <th></th>\n",
       "      <th>order_id | order_status    | customer               | order_date | order_quantity | sales     | discount | discount_value | product_category | product_sub_category           |</th>\n",
       "    </tr>\n",
       "  </thead>\n",
       "  <tbody>\n",
       "    <tr>\n",
       "      <th>5496</th>\n",
       "      <td>|    52706 | Order Finished  | Paul Prost     ...</td>\n",
       "    </tr>\n",
       "    <tr>\n",
       "      <th>5497</th>\n",
       "      <td>|    54279 | Order Finished  | Lisa DeCherney ...</td>\n",
       "    </tr>\n",
       "    <tr>\n",
       "      <th>5498</th>\n",
       "      <td>|    55558 | Order Finished  | Philip Brown   ...</td>\n",
       "    </tr>\n",
       "    <tr>\n",
       "      <th>5499</th>\n",
       "      <td>|    56581 | Order Finished  | Lisa DeCherney ...</td>\n",
       "    </tr>\n",
       "    <tr>\n",
       "      <th>5500</th>\n",
       "      <td>+----------+-----------------+----------------...</td>\n",
       "    </tr>\n",
       "  </tbody>\n",
       "</table>\n",
       "</div>"
      ],
      "text/plain": [
       "      order_id | order_status    | customer               | order_date | order_quantity | sales     | discount | discount_value | product_category | product_sub_category           |\n",
       "5496  |    52706 | Order Finished  | Paul Prost     ...                                                                                                                              \n",
       "5497  |    54279 | Order Finished  | Lisa DeCherney ...                                                                                                                              \n",
       "5498  |    55558 | Order Finished  | Philip Brown   ...                                                                                                                              \n",
       "5499  |    56581 | Order Finished  | Lisa DeCherney ...                                                                                                                              \n",
       "5500  +----------+-----------------+----------------...                                                                                                                              "
      ]
     },
     "execution_count": 4,
     "metadata": {},
     "output_type": "execute_result"
    }
   ],
   "source": [
    "df_raw.tail()"
   ]
  },
  {
   "cell_type": "markdown",
   "metadata": {},
   "source": [
    "on the index dataset, starting from 0 and ending at 5500."
   ]
  },
  {
   "cell_type": "code",
   "execution_count": 5,
   "metadata": {},
   "outputs": [
    {
     "name": "stdout",
     "output_type": "stream",
     "text": [
      "The amount of data before cleaning 5501 row and 1 kolom \n"
     ]
    }
   ],
   "source": [
    "# Check the amount of data before cleaning.\n",
    "print('The amount of data before cleaning %d row and %d kolom ' % df_raw.shape)"
   ]
  },
  {
   "cell_type": "markdown",
   "metadata": {},
   "source": [
    "I omitted rows 0 and 5500 because they had the wrong data values."
   ]
  },
  {
   "cell_type": "code",
   "execution_count": 6,
   "metadata": {},
   "outputs": [],
   "source": [
    "df_raw_drop = df_raw.drop(index=[0,5500])"
   ]
  },
  {
   "cell_type": "markdown",
   "metadata": {},
   "source": [
    "View the top 5 data and the bottom 5 data after cleaning."
   ]
  },
  {
   "cell_type": "code",
   "execution_count": 7,
   "metadata": {},
   "outputs": [
    {
     "data": {
      "text/html": [
       "<div>\n",
       "<style scoped>\n",
       "    .dataframe tbody tr th:only-of-type {\n",
       "        vertical-align: middle;\n",
       "    }\n",
       "\n",
       "    .dataframe tbody tr th {\n",
       "        vertical-align: top;\n",
       "    }\n",
       "\n",
       "    .dataframe thead th {\n",
       "        text-align: right;\n",
       "    }\n",
       "</style>\n",
       "<table border=\"1\" class=\"dataframe\">\n",
       "  <thead>\n",
       "    <tr style=\"text-align: right;\">\n",
       "      <th></th>\n",
       "      <th>order_id | order_status    | customer               | order_date | order_quantity | sales     | discount | discount_value | product_category | product_sub_category           |</th>\n",
       "    </tr>\n",
       "  </thead>\n",
       "  <tbody>\n",
       "    <tr>\n",
       "      <th>1</th>\n",
       "      <td>|        3 | Order Finished  | Muhammed MacInt...</td>\n",
       "    </tr>\n",
       "    <tr>\n",
       "      <th>2</th>\n",
       "      <td>|      293 | Order Finished  | Barry French   ...</td>\n",
       "    </tr>\n",
       "    <tr>\n",
       "      <th>3</th>\n",
       "      <td>|      483 | Order Finished  | Clay Rozendal  ...</td>\n",
       "    </tr>\n",
       "    <tr>\n",
       "      <th>4</th>\n",
       "      <td>|      515 | Order Finished  | Carlos Soltero ...</td>\n",
       "    </tr>\n",
       "    <tr>\n",
       "      <th>5</th>\n",
       "      <td>|      613 | Order Finished  | Carl Jackson   ...</td>\n",
       "    </tr>\n",
       "  </tbody>\n",
       "</table>\n",
       "</div>"
      ],
      "text/plain": [
       "   order_id | order_status    | customer               | order_date | order_quantity | sales     | discount | discount_value | product_category | product_sub_category           |\n",
       "1  |        3 | Order Finished  | Muhammed MacInt...                                                                                                                              \n",
       "2  |      293 | Order Finished  | Barry French   ...                                                                                                                              \n",
       "3  |      483 | Order Finished  | Clay Rozendal  ...                                                                                                                              \n",
       "4  |      515 | Order Finished  | Carlos Soltero ...                                                                                                                              \n",
       "5  |      613 | Order Finished  | Carl Jackson   ...                                                                                                                              "
      ]
     },
     "execution_count": 7,
     "metadata": {},
     "output_type": "execute_result"
    }
   ],
   "source": [
    "df_raw_drop.head()"
   ]
  },
  {
   "cell_type": "code",
   "execution_count": 8,
   "metadata": {},
   "outputs": [
    {
     "data": {
      "text/html": [
       "<div>\n",
       "<style scoped>\n",
       "    .dataframe tbody tr th:only-of-type {\n",
       "        vertical-align: middle;\n",
       "    }\n",
       "\n",
       "    .dataframe tbody tr th {\n",
       "        vertical-align: top;\n",
       "    }\n",
       "\n",
       "    .dataframe thead th {\n",
       "        text-align: right;\n",
       "    }\n",
       "</style>\n",
       "<table border=\"1\" class=\"dataframe\">\n",
       "  <thead>\n",
       "    <tr style=\"text-align: right;\">\n",
       "      <th></th>\n",
       "      <th>order_id | order_status    | customer               | order_date | order_quantity | sales     | discount | discount_value | product_category | product_sub_category           |</th>\n",
       "    </tr>\n",
       "  </thead>\n",
       "  <tbody>\n",
       "    <tr>\n",
       "      <th>5495</th>\n",
       "      <td>|    47360 | Order Finished  | Philip Brown   ...</td>\n",
       "    </tr>\n",
       "    <tr>\n",
       "      <th>5496</th>\n",
       "      <td>|    52706 | Order Finished  | Paul Prost     ...</td>\n",
       "    </tr>\n",
       "    <tr>\n",
       "      <th>5497</th>\n",
       "      <td>|    54279 | Order Finished  | Lisa DeCherney ...</td>\n",
       "    </tr>\n",
       "    <tr>\n",
       "      <th>5498</th>\n",
       "      <td>|    55558 | Order Finished  | Philip Brown   ...</td>\n",
       "    </tr>\n",
       "    <tr>\n",
       "      <th>5499</th>\n",
       "      <td>|    56581 | Order Finished  | Lisa DeCherney ...</td>\n",
       "    </tr>\n",
       "  </tbody>\n",
       "</table>\n",
       "</div>"
      ],
      "text/plain": [
       "      order_id | order_status    | customer               | order_date | order_quantity | sales     | discount | discount_value | product_category | product_sub_category           |\n",
       "5495  |    47360 | Order Finished  | Philip Brown   ...                                                                                                                              \n",
       "5496  |    52706 | Order Finished  | Paul Prost     ...                                                                                                                              \n",
       "5497  |    54279 | Order Finished  | Lisa DeCherney ...                                                                                                                              \n",
       "5498  |    55558 | Order Finished  | Philip Brown   ...                                                                                                                              \n",
       "5499  |    56581 | Order Finished  | Lisa DeCherney ...                                                                                                                              "
      ]
     },
     "execution_count": 8,
     "metadata": {},
     "output_type": "execute_result"
    }
   ],
   "source": [
    "df_raw_drop.tail()"
   ]
  },
  {
   "cell_type": "code",
   "execution_count": 9,
   "metadata": {},
   "outputs": [
    {
     "data": {
      "text/plain": [
       "(5499, 1)"
      ]
     },
     "execution_count": 9,
     "metadata": {},
     "output_type": "execute_result"
    }
   ],
   "source": [
    "# Check the dataframe after removing the two rows.\n",
    "df_raw_drop.shape"
   ]
  },
  {
   "cell_type": "markdown",
   "metadata": {},
   "source": [
    "See column index ranged index for more information. "
   ]
  },
  {
   "cell_type": "code",
   "execution_count": 10,
   "metadata": {},
   "outputs": [
    {
     "data": {
      "text/plain": [
       "Index([' order_id | order_status    | customer               | order_date | order_quantity | sales     | discount | discount_value | product_category | product_sub_category           |'], dtype='object')"
      ]
     },
     "execution_count": 10,
     "metadata": {},
     "output_type": "execute_result"
    }
   ],
   "source": [
    "df_raw.columns"
   ]
  },
  {
   "cell_type": "code",
   "execution_count": 11,
   "metadata": {},
   "outputs": [
    {
     "data": {
      "text/plain": [
       "RangeIndex(start=1, stop=5500, step=1)"
      ]
     },
     "execution_count": 11,
     "metadata": {},
     "output_type": "execute_result"
    }
   ],
   "source": [
    "df_raw_drop.index"
   ]
  },
  {
   "cell_type": "markdown",
   "metadata": {},
   "source": [
    "There is some data that should be stored in each column, but it is stored in only one column, namely the first column. It is necessary to reset the data."
   ]
  },
  {
   "cell_type": "markdown",
   "metadata": {},
   "source": [
    "Creat list for dataframe Column"
   ]
  },
  {
   "cell_type": "code",
   "execution_count": 12,
   "metadata": {},
   "outputs": [
    {
     "name": "stdout",
     "output_type": "stream",
     "text": [
      "Column dataFrame Length: 10\n"
     ]
    },
    {
     "data": {
      "text/plain": [
       "['order_id',\n",
       " 'order_status',\n",
       " 'customer',\n",
       " 'order_date',\n",
       " 'order_quantity',\n",
       " 'sales',\n",
       " 'discount',\n",
       " 'discount_value',\n",
       " 'product_category',\n",
       " 'product_sub_category']"
      ]
     },
     "execution_count": 12,
     "metadata": {},
     "output_type": "execute_result"
    }
   ],
   "source": [
    "# Creating string from list from series\n",
    "coloumn_string = str(list(df_raw_drop.columns))\n",
    "\n",
    "#Combining 2 list to become string data type\n",
    "coloumn_string = ''.join(coloumn_string)\n",
    "\n",
    "#Remove space between letters\n",
    "coloumn_string = coloumn_string.replace(' ','')\n",
    "\n",
    "#Slicing the string to remove square brackets from left and right\n",
    "coloumn_string = coloumn_string[2:-3]\n",
    "\n",
    "#Split string. From string data type to list data type\n",
    "df_columns = coloumn_string.split('|')\n",
    "\n",
    "print('Column dataFrame Length:', len(df_columns))\n",
    "df_columns"
   ]
  },
  {
   "cell_type": "code",
   "execution_count": 13,
   "metadata": {},
   "outputs": [],
   "source": [
    "# Make a list for dataFrame Row\n",
    "# Import Regexes for string manipulation\n",
    "import re"
   ]
  },
  {
   "cell_type": "code",
   "execution_count": 14,
   "metadata": {},
   "outputs": [
    {
     "name": "stdout",
     "output_type": "stream",
     "text": [
      "The length of dataframe rows: 5499\n",
      "[['3', 'Order Finished', 'Muhammed Mac Intyre', '2010-10-13', '6', '523080', '0.04', '20923', 'Office Supplies', 'Storage&Organization'], ['293', 'Order Finished', 'Barry French', '2012-10-01', '49', '20246040', '0.07', '1417223', 'Office Supplies', 'Appliances'], ['483', 'Order Finished', 'Clay Rozendal', '2011-07-10', '30', '9931519', '0.08', '794522', 'Technology', 'Telephonesand Communication']]\n"
     ]
    }
   ],
   "source": [
    "i = 0\n",
    "df_rows = []\n",
    "\n",
    "while i <5499:\n",
    "    #Creating string from list from series\n",
    "    row_string = str(list(df_raw_drop.iloc[i]))\n",
    "    \n",
    "    #Combining 2 list to become string data type\n",
    "    row_string = ''.join(row_string)\n",
    "    \n",
    "    #Remove space between letters\n",
    "    row_string = row_string.replace(\" \",\"\")\n",
    "    \n",
    "    #Slicing the string to remove square brackets from left and right\n",
    "    row_string = row_string[3:-3]\n",
    "    \n",
    "    #Separating word for everty uppercase letter using regex function\n",
    "    row_string = re.sub(r\"(\\w)([A-Z])\", r\"\\1 \\2\", row_string)\n",
    "    \n",
    "    #Split string. From string data type to list data type\n",
    "    row_string = row_string.split('|')\n",
    "    \n",
    "    #Adding list to a list container\n",
    "    df_rows.append(row_string)\n",
    "    i+= 1\n",
    "\n",
    "print('The length of dataframe rows:', len(df_rows))\n",
    "print(df_rows[0:3])"
   ]
  },
  {
   "cell_type": "markdown",
   "metadata": {},
   "source": [
    "Creating DataFramme"
   ]
  },
  {
   "cell_type": "code",
   "execution_count": 15,
   "metadata": {},
   "outputs": [
    {
     "data": {
      "text/html": [
       "<div>\n",
       "<style scoped>\n",
       "    .dataframe tbody tr th:only-of-type {\n",
       "        vertical-align: middle;\n",
       "    }\n",
       "\n",
       "    .dataframe tbody tr th {\n",
       "        vertical-align: top;\n",
       "    }\n",
       "\n",
       "    .dataframe thead th {\n",
       "        text-align: right;\n",
       "    }\n",
       "</style>\n",
       "<table border=\"1\" class=\"dataframe\">\n",
       "  <thead>\n",
       "    <tr style=\"text-align: right;\">\n",
       "      <th></th>\n",
       "      <th>order_id</th>\n",
       "      <th>order_status</th>\n",
       "      <th>customer</th>\n",
       "      <th>order_date</th>\n",
       "      <th>order_quantity</th>\n",
       "      <th>sales</th>\n",
       "      <th>discount</th>\n",
       "      <th>discount_value</th>\n",
       "      <th>product_category</th>\n",
       "      <th>product_sub_category</th>\n",
       "    </tr>\n",
       "  </thead>\n",
       "  <tbody>\n",
       "    <tr>\n",
       "      <th>0</th>\n",
       "      <td>3</td>\n",
       "      <td>Order Finished</td>\n",
       "      <td>Muhammed Mac Intyre</td>\n",
       "      <td>2010-10-13</td>\n",
       "      <td>6</td>\n",
       "      <td>523080</td>\n",
       "      <td>0.04</td>\n",
       "      <td>20923</td>\n",
       "      <td>Office Supplies</td>\n",
       "      <td>Storage&amp;Organization</td>\n",
       "    </tr>\n",
       "    <tr>\n",
       "      <th>1</th>\n",
       "      <td>293</td>\n",
       "      <td>Order Finished</td>\n",
       "      <td>Barry French</td>\n",
       "      <td>2012-10-01</td>\n",
       "      <td>49</td>\n",
       "      <td>20246040</td>\n",
       "      <td>0.07</td>\n",
       "      <td>1417223</td>\n",
       "      <td>Office Supplies</td>\n",
       "      <td>Appliances</td>\n",
       "    </tr>\n",
       "    <tr>\n",
       "      <th>2</th>\n",
       "      <td>483</td>\n",
       "      <td>Order Finished</td>\n",
       "      <td>Clay Rozendal</td>\n",
       "      <td>2011-07-10</td>\n",
       "      <td>30</td>\n",
       "      <td>9931519</td>\n",
       "      <td>0.08</td>\n",
       "      <td>794522</td>\n",
       "      <td>Technology</td>\n",
       "      <td>Telephonesand Communication</td>\n",
       "    </tr>\n",
       "    <tr>\n",
       "      <th>3</th>\n",
       "      <td>515</td>\n",
       "      <td>Order Finished</td>\n",
       "      <td>Carlos Soltero</td>\n",
       "      <td>2010-08-28</td>\n",
       "      <td>19</td>\n",
       "      <td>788540</td>\n",
       "      <td>0.08</td>\n",
       "      <td>63083</td>\n",
       "      <td>Office Supplies</td>\n",
       "      <td>Appliances</td>\n",
       "    </tr>\n",
       "    <tr>\n",
       "      <th>4</th>\n",
       "      <td>613</td>\n",
       "      <td>Order Finished</td>\n",
       "      <td>Carl Jackson</td>\n",
       "      <td>2011-06-17</td>\n",
       "      <td>12</td>\n",
       "      <td>187080</td>\n",
       "      <td>0.03</td>\n",
       "      <td>5612</td>\n",
       "      <td>Office Supplies</td>\n",
       "      <td>Bindersand Binder Accessories</td>\n",
       "    </tr>\n",
       "  </tbody>\n",
       "</table>\n",
       "</div>"
      ],
      "text/plain": [
       "  order_id    order_status             customer  order_date order_quantity  \\\n",
       "0        3  Order Finished  Muhammed Mac Intyre  2010-10-13              6   \n",
       "1      293  Order Finished         Barry French  2012-10-01             49   \n",
       "2      483  Order Finished        Clay Rozendal  2011-07-10             30   \n",
       "3      515  Order Finished       Carlos Soltero  2010-08-28             19   \n",
       "4      613  Order Finished         Carl Jackson  2011-06-17             12   \n",
       "\n",
       "      sales discount discount_value product_category  \\\n",
       "0    523080     0.04          20923  Office Supplies   \n",
       "1  20246040     0.07        1417223  Office Supplies   \n",
       "2   9931519     0.08         794522       Technology   \n",
       "3    788540     0.08          63083  Office Supplies   \n",
       "4    187080     0.03           5612  Office Supplies   \n",
       "\n",
       "            product_sub_category  \n",
       "0           Storage&Organization  \n",
       "1                     Appliances  \n",
       "2    Telephonesand Communication  \n",
       "3                     Appliances  \n",
       "4  Bindersand Binder Accessories  "
      ]
     },
     "execution_count": 15,
     "metadata": {},
     "output_type": "execute_result"
    }
   ],
   "source": [
    "df_clean = pd.DataFrame(df_rows, columns=df_columns)\n",
    "df_clean.head()"
   ]
  },
  {
   "cell_type": "code",
   "execution_count": 16,
   "metadata": {},
   "outputs": [
    {
     "data": {
      "text/plain": [
       "order_id                0\n",
       "order_status            0\n",
       "customer                0\n",
       "order_date              0\n",
       "order_quantity          0\n",
       "sales                   0\n",
       "discount                0\n",
       "discount_value          0\n",
       "product_category        0\n",
       "product_sub_category    0\n",
       "dtype: int64"
      ]
     },
     "execution_count": 16,
     "metadata": {},
     "output_type": "execute_result"
    }
   ],
   "source": [
    "# Check Missing Value\n",
    "df_clean.isnull().sum()"
   ]
  },
  {
   "cell_type": "markdown",
   "metadata": {},
   "source": [
    "Theres no Missing Value after Cleaning"
   ]
  },
  {
   "cell_type": "code",
   "execution_count": 17,
   "metadata": {},
   "outputs": [
    {
     "data": {
      "text/plain": [
       "29795    2\n",
       "31781    2\n",
       "40519    2\n",
       "3        1\n",
       "32356    1\n",
       "        ..\n",
       "36737    1\n",
       "36294    1\n",
       "36230    1\n",
       "36196    1\n",
       "56581    1\n",
       "Name: order_id, Length: 5496, dtype: int64"
      ]
     },
     "execution_count": 17,
     "metadata": {},
     "output_type": "execute_result"
    }
   ],
   "source": [
    "# Chek Values each column\n",
    "df_clean['order_id'].value_counts()"
   ]
  },
  {
   "cell_type": "code",
   "execution_count": 18,
   "metadata": {},
   "outputs": [
    {
     "data": {
      "text/plain": [
       "Order Finished     4924\n",
       "Order Returned      572\n",
       "Order Cancelled       3\n",
       "Name: order_status, dtype: int64"
      ]
     },
     "execution_count": 18,
     "metadata": {},
     "output_type": "execute_result"
    }
   ],
   "source": [
    "df_clean['order_status'].value_counts()"
   ]
  },
  {
   "cell_type": "code",
   "execution_count": 19,
   "metadata": {},
   "outputs": [
    {
     "data": {
      "text/plain": [
       "Bill Donatelli            39\n",
       "Maria Bertelson           33\n",
       "Darren Budd               26\n",
       "Brad Thomas               24\n",
       "Christina Vanderzanden    22\n",
       "                          ..\n",
       "Sample Company A           1\n",
       "Maria Etezadi              1\n",
       "Andrew Roberts             1\n",
       "Grace Kelly                1\n",
       "Bruce Money                1\n",
       "Name: customer, Length: 777, dtype: int64"
      ]
     },
     "execution_count": 19,
     "metadata": {},
     "output_type": "execute_result"
    }
   ],
   "source": [
    "df_clean['customer'].value_counts()"
   ]
  },
  {
   "cell_type": "code",
   "execution_count": 20,
   "metadata": {},
   "outputs": [
    {
     "data": {
      "text/plain": [
       "2010-12-12    11\n",
       "2012-07-21    10\n",
       "2010-09-17    10\n",
       "2010-09-26    10\n",
       "2011-09-15    10\n",
       "              ..\n",
       "2010-04-24     1\n",
       "2011-09-18     1\n",
       "2009-06-05     1\n",
       "2010-03-06     1\n",
       "2009-02-09     1\n",
       "Name: order_date, Length: 1418, dtype: int64"
      ]
     },
     "execution_count": 20,
     "metadata": {},
     "output_type": "execute_result"
    }
   ],
   "source": [
    "df_clean['order_date'].value_counts()"
   ]
  },
  {
   "cell_type": "code",
   "execution_count": 21,
   "metadata": {},
   "outputs": [
    {
     "data": {
      "text/plain": [
       "4     136\n",
       "31    133\n",
       "46    130\n",
       "23    128\n",
       "39    127\n",
       "43    126\n",
       "3     125\n",
       "6     125\n",
       "24    123\n",
       "20    122\n",
       "32    121\n",
       "50    121\n",
       "7     118\n",
       "1     117\n",
       "29    116\n",
       "8     114\n",
       "42    113\n",
       "41    112\n",
       "16    112\n",
       "36    112\n",
       "44    111\n",
       "30    111\n",
       "12    111\n",
       "34    109\n",
       "37    109\n",
       "26    108\n",
       "47    108\n",
       "25    107\n",
       "27    107\n",
       "33    106\n",
       "10    106\n",
       "5     106\n",
       "40    105\n",
       "35    105\n",
       "48    105\n",
       "14    104\n",
       "15    104\n",
       "21    104\n",
       "17    104\n",
       "38    101\n",
       "13     98\n",
       "28     97\n",
       "9      97\n",
       "18     96\n",
       "45     96\n",
       "19     95\n",
       "2      92\n",
       "11     91\n",
       "22     91\n",
       "49     84\n",
       "Name: order_quantity, dtype: int64"
      ]
     },
     "execution_count": 21,
     "metadata": {},
     "output_type": "execute_result"
    }
   ],
   "source": [
    "df_clean['order_quantity'].value_counts()"
   ]
  },
  {
   "cell_type": "code",
   "execution_count": 22,
   "metadata": {},
   "outputs": [
    {
     "data": {
      "text/plain": [
       "86580      3\n",
       "449160     3\n",
       "38720      3\n",
       "253240     2\n",
       "57640      2\n",
       "          ..\n",
       "260500     1\n",
       "2924323    1\n",
       "1222320    1\n",
       "114060     1\n",
       "4052020    1\n",
       "Name: sales, Length: 5394, dtype: int64"
      ]
     },
     "execution_count": 22,
     "metadata": {},
     "output_type": "execute_result"
    }
   ],
   "source": [
    "df_clean['sales'].value_counts()"
   ]
  },
  {
   "cell_type": "code",
   "execution_count": 23,
   "metadata": {},
   "outputs": [
    {
     "data": {
      "text/plain": [
       "0.08    516\n",
       "0.05    516\n",
       "0.03    513\n",
       "0       510\n",
       "0.04    508\n",
       "0.09    506\n",
       "0.01    505\n",
       "0.1     497\n",
       "0.02    481\n",
       "0.06    474\n",
       "0.07    470\n",
       "0.11      1\n",
       "0.17      1\n",
       "0.16      1\n",
       "Name: discount, dtype: int64"
      ]
     },
     "execution_count": 23,
     "metadata": {},
     "output_type": "execute_result"
    }
   ],
   "source": [
    "df_clean['discount'].value_counts()"
   ]
  },
  {
   "cell_type": "code",
   "execution_count": 24,
   "metadata": {},
   "outputs": [
    {
     "data": {
      "text/plain": [
       "0         510\n",
       "20066       3\n",
       "3969        3\n",
       "13475       3\n",
       "1897        3\n",
       "         ... \n",
       "158608      1\n",
       "9344        1\n",
       "60599       1\n",
       "43539       1\n",
       "405202      1\n",
       "Name: discount_value, Length: 4867, dtype: int64"
      ]
     },
     "execution_count": 24,
     "metadata": {},
     "output_type": "execute_result"
    }
   ],
   "source": [
    "df_clean['discount_value'].value_counts()"
   ]
  },
  {
   "cell_type": "code",
   "execution_count": 25,
   "metadata": {},
   "outputs": [
    {
     "data": {
      "text/plain": [
       "Office Supplies    3066\n",
       "Technology         1280\n",
       "Furniture          1153\n",
       "Name: product_category, dtype: int64"
      ]
     },
     "execution_count": 25,
     "metadata": {},
     "output_type": "execute_result"
    }
   ],
   "source": [
    "df_clean['product_category'].value_counts()"
   ]
  },
  {
   "cell_type": "code",
   "execution_count": 26,
   "metadata": {},
   "outputs": [
    {
     "data": {
      "text/plain": [
       "Bindersand Binder Accessories    768\n",
       "Paper                            736\n",
       "Computer Peripherals             561\n",
       "Office Furnishings               530\n",
       "Telephonesand Communication      429\n",
       "Appliances                       375\n",
       "Pens&Art Supplies                359\n",
       "Chairs&Chairmats                 301\n",
       "Storage&Organization             276\n",
       "Office Machines                  234\n",
       "Labels                           206\n",
       "Tables                           180\n",
       "Envelopes                        174\n",
       "Bookcases                        142\n",
       "Rubber Bands                      97\n",
       "Scissors,Rulersand Trimmers       75\n",
       "Copiersand Fax                    56\n",
       "Name: product_sub_category, dtype: int64"
      ]
     },
     "execution_count": 26,
     "metadata": {},
     "output_type": "execute_result"
    }
   ],
   "source": [
    "df_clean['product_sub_category'].value_counts()"
   ]
  },
  {
   "cell_type": "markdown",
   "metadata": {},
   "source": [
    "Changing the Data Type of Each Column"
   ]
  },
  {
   "cell_type": "code",
   "execution_count": 27,
   "metadata": {},
   "outputs": [
    {
     "data": {
      "text/plain": [
       "order_id                object\n",
       "order_status            object\n",
       "customer                object\n",
       "order_date              object\n",
       "order_quantity          object\n",
       "sales                   object\n",
       "discount                object\n",
       "discount_value          object\n",
       "product_category        object\n",
       "product_sub_category    object\n",
       "dtype: object"
      ]
     },
     "execution_count": 27,
     "metadata": {},
     "output_type": "execute_result"
    }
   ],
   "source": [
    "df_clean.dtypes"
   ]
  },
  {
   "cell_type": "code",
   "execution_count": 28,
   "metadata": {},
   "outputs": [],
   "source": [
    "# Change data type object to datetime\n",
    "df_clean['order_date'] = pd.to_datetime(df_clean['order_date'])"
   ]
  },
  {
   "cell_type": "code",
   "execution_count": 29,
   "metadata": {},
   "outputs": [],
   "source": [
    "# Change data type object to float and int\n",
    "df_clean['sales'] = df_clean['sales'].astype('int64')\n",
    "df_clean['order_quantity'] = df_clean['order_quantity'].astype('int64')\n",
    "df_clean['discount'] = df_clean['discount'].astype('float64')\n",
    "df_clean['discount_value'] = df_clean['discount_value'].astype('int64')"
   ]
  },
  {
   "cell_type": "code",
   "execution_count": 30,
   "metadata": {},
   "outputs": [
    {
     "data": {
      "text/plain": [
       "order_id                        object\n",
       "order_status                    object\n",
       "customer                        object\n",
       "order_date              datetime64[ns]\n",
       "order_quantity                   int64\n",
       "sales                            int64\n",
       "discount                       float64\n",
       "discount_value                   int64\n",
       "product_category                object\n",
       "product_sub_category            object\n",
       "dtype: object"
      ]
     },
     "execution_count": 30,
     "metadata": {},
     "output_type": "execute_result"
    }
   ],
   "source": [
    "df_clean.dtypes"
   ]
  },
  {
   "cell_type": "markdown",
   "metadata": {},
   "source": [
    "View the cleaned data's top 5 and bottom 5 data points. "
   ]
  },
  {
   "cell_type": "code",
   "execution_count": 31,
   "metadata": {},
   "outputs": [
    {
     "data": {
      "text/html": [
       "<div>\n",
       "<style scoped>\n",
       "    .dataframe tbody tr th:only-of-type {\n",
       "        vertical-align: middle;\n",
       "    }\n",
       "\n",
       "    .dataframe tbody tr th {\n",
       "        vertical-align: top;\n",
       "    }\n",
       "\n",
       "    .dataframe thead th {\n",
       "        text-align: right;\n",
       "    }\n",
       "</style>\n",
       "<table border=\"1\" class=\"dataframe\">\n",
       "  <thead>\n",
       "    <tr style=\"text-align: right;\">\n",
       "      <th></th>\n",
       "      <th>order_id</th>\n",
       "      <th>order_status</th>\n",
       "      <th>customer</th>\n",
       "      <th>order_date</th>\n",
       "      <th>order_quantity</th>\n",
       "      <th>sales</th>\n",
       "      <th>discount</th>\n",
       "      <th>discount_value</th>\n",
       "      <th>product_category</th>\n",
       "      <th>product_sub_category</th>\n",
       "    </tr>\n",
       "  </thead>\n",
       "  <tbody>\n",
       "    <tr>\n",
       "      <th>0</th>\n",
       "      <td>3</td>\n",
       "      <td>Order Finished</td>\n",
       "      <td>Muhammed Mac Intyre</td>\n",
       "      <td>2010-10-13</td>\n",
       "      <td>6</td>\n",
       "      <td>523080</td>\n",
       "      <td>0.04</td>\n",
       "      <td>20923</td>\n",
       "      <td>Office Supplies</td>\n",
       "      <td>Storage&amp;Organization</td>\n",
       "    </tr>\n",
       "    <tr>\n",
       "      <th>1</th>\n",
       "      <td>293</td>\n",
       "      <td>Order Finished</td>\n",
       "      <td>Barry French</td>\n",
       "      <td>2012-10-01</td>\n",
       "      <td>49</td>\n",
       "      <td>20246040</td>\n",
       "      <td>0.07</td>\n",
       "      <td>1417223</td>\n",
       "      <td>Office Supplies</td>\n",
       "      <td>Appliances</td>\n",
       "    </tr>\n",
       "    <tr>\n",
       "      <th>2</th>\n",
       "      <td>483</td>\n",
       "      <td>Order Finished</td>\n",
       "      <td>Clay Rozendal</td>\n",
       "      <td>2011-07-10</td>\n",
       "      <td>30</td>\n",
       "      <td>9931519</td>\n",
       "      <td>0.08</td>\n",
       "      <td>794522</td>\n",
       "      <td>Technology</td>\n",
       "      <td>Telephonesand Communication</td>\n",
       "    </tr>\n",
       "    <tr>\n",
       "      <th>3</th>\n",
       "      <td>515</td>\n",
       "      <td>Order Finished</td>\n",
       "      <td>Carlos Soltero</td>\n",
       "      <td>2010-08-28</td>\n",
       "      <td>19</td>\n",
       "      <td>788540</td>\n",
       "      <td>0.08</td>\n",
       "      <td>63083</td>\n",
       "      <td>Office Supplies</td>\n",
       "      <td>Appliances</td>\n",
       "    </tr>\n",
       "    <tr>\n",
       "      <th>4</th>\n",
       "      <td>613</td>\n",
       "      <td>Order Finished</td>\n",
       "      <td>Carl Jackson</td>\n",
       "      <td>2011-06-17</td>\n",
       "      <td>12</td>\n",
       "      <td>187080</td>\n",
       "      <td>0.03</td>\n",
       "      <td>5612</td>\n",
       "      <td>Office Supplies</td>\n",
       "      <td>Bindersand Binder Accessories</td>\n",
       "    </tr>\n",
       "  </tbody>\n",
       "</table>\n",
       "</div>"
      ],
      "text/plain": [
       "  order_id    order_status             customer order_date  order_quantity  \\\n",
       "0        3  Order Finished  Muhammed Mac Intyre 2010-10-13               6   \n",
       "1      293  Order Finished         Barry French 2012-10-01              49   \n",
       "2      483  Order Finished        Clay Rozendal 2011-07-10              30   \n",
       "3      515  Order Finished       Carlos Soltero 2010-08-28              19   \n",
       "4      613  Order Finished         Carl Jackson 2011-06-17              12   \n",
       "\n",
       "      sales  discount  discount_value product_category  \\\n",
       "0    523080      0.04           20923  Office Supplies   \n",
       "1  20246040      0.07         1417223  Office Supplies   \n",
       "2   9931519      0.08          794522       Technology   \n",
       "3    788540      0.08           63083  Office Supplies   \n",
       "4    187080      0.03            5612  Office Supplies   \n",
       "\n",
       "            product_sub_category  \n",
       "0           Storage&Organization  \n",
       "1                     Appliances  \n",
       "2    Telephonesand Communication  \n",
       "3                     Appliances  \n",
       "4  Bindersand Binder Accessories  "
      ]
     },
     "execution_count": 31,
     "metadata": {},
     "output_type": "execute_result"
    }
   ],
   "source": [
    "df_clean.head()"
   ]
  },
  {
   "cell_type": "code",
   "execution_count": 32,
   "metadata": {},
   "outputs": [
    {
     "data": {
      "text/html": [
       "<div>\n",
       "<style scoped>\n",
       "    .dataframe tbody tr th:only-of-type {\n",
       "        vertical-align: middle;\n",
       "    }\n",
       "\n",
       "    .dataframe tbody tr th {\n",
       "        vertical-align: top;\n",
       "    }\n",
       "\n",
       "    .dataframe thead th {\n",
       "        text-align: right;\n",
       "    }\n",
       "</style>\n",
       "<table border=\"1\" class=\"dataframe\">\n",
       "  <thead>\n",
       "    <tr style=\"text-align: right;\">\n",
       "      <th></th>\n",
       "      <th>order_id</th>\n",
       "      <th>order_status</th>\n",
       "      <th>customer</th>\n",
       "      <th>order_date</th>\n",
       "      <th>order_quantity</th>\n",
       "      <th>sales</th>\n",
       "      <th>discount</th>\n",
       "      <th>discount_value</th>\n",
       "      <th>product_category</th>\n",
       "      <th>product_sub_category</th>\n",
       "    </tr>\n",
       "  </thead>\n",
       "  <tbody>\n",
       "    <tr>\n",
       "      <th>5494</th>\n",
       "      <td>47360</td>\n",
       "      <td>Order Finished</td>\n",
       "      <td>Philip Brown</td>\n",
       "      <td>2010-10-08</td>\n",
       "      <td>25</td>\n",
       "      <td>4401280</td>\n",
       "      <td>0.05</td>\n",
       "      <td>220064</td>\n",
       "      <td>Furniture</td>\n",
       "      <td>Chairs&amp;Chairmats</td>\n",
       "    </tr>\n",
       "    <tr>\n",
       "      <th>5495</th>\n",
       "      <td>52706</td>\n",
       "      <td>Order Finished</td>\n",
       "      <td>Paul Prost</td>\n",
       "      <td>2012-07-09</td>\n",
       "      <td>34</td>\n",
       "      <td>2083320</td>\n",
       "      <td>0.02</td>\n",
       "      <td>41666</td>\n",
       "      <td>Office Supplies</td>\n",
       "      <td>Bindersand Binder Accessories</td>\n",
       "    </tr>\n",
       "    <tr>\n",
       "      <th>5496</th>\n",
       "      <td>54279</td>\n",
       "      <td>Order Finished</td>\n",
       "      <td>Lisa De Cherney</td>\n",
       "      <td>2011-07-30</td>\n",
       "      <td>41</td>\n",
       "      <td>20142180</td>\n",
       "      <td>0.10</td>\n",
       "      <td>2014218</td>\n",
       "      <td>Technology</td>\n",
       "      <td>Office Machines</td>\n",
       "    </tr>\n",
       "    <tr>\n",
       "      <th>5497</th>\n",
       "      <td>55558</td>\n",
       "      <td>Order Finished</td>\n",
       "      <td>Philip Brown</td>\n",
       "      <td>2010-08-09</td>\n",
       "      <td>8</td>\n",
       "      <td>2588080</td>\n",
       "      <td>0.05</td>\n",
       "      <td>129404</td>\n",
       "      <td>Furniture</td>\n",
       "      <td>Bookcases</td>\n",
       "    </tr>\n",
       "    <tr>\n",
       "      <th>5498</th>\n",
       "      <td>56581</td>\n",
       "      <td>Order Finished</td>\n",
       "      <td>Lisa De Cherney</td>\n",
       "      <td>2009-02-08</td>\n",
       "      <td>20</td>\n",
       "      <td>4052020</td>\n",
       "      <td>0.10</td>\n",
       "      <td>405202</td>\n",
       "      <td>Furniture</td>\n",
       "      <td>Office Furnishings</td>\n",
       "    </tr>\n",
       "  </tbody>\n",
       "</table>\n",
       "</div>"
      ],
      "text/plain": [
       "     order_id    order_status         customer order_date  order_quantity  \\\n",
       "5494    47360  Order Finished     Philip Brown 2010-10-08              25   \n",
       "5495    52706  Order Finished       Paul Prost 2012-07-09              34   \n",
       "5496    54279  Order Finished  Lisa De Cherney 2011-07-30              41   \n",
       "5497    55558  Order Finished     Philip Brown 2010-08-09               8   \n",
       "5498    56581  Order Finished  Lisa De Cherney 2009-02-08              20   \n",
       "\n",
       "         sales  discount  discount_value product_category  \\\n",
       "5494   4401280      0.05          220064        Furniture   \n",
       "5495   2083320      0.02           41666  Office Supplies   \n",
       "5496  20142180      0.10         2014218       Technology   \n",
       "5497   2588080      0.05          129404        Furniture   \n",
       "5498   4052020      0.10          405202        Furniture   \n",
       "\n",
       "               product_sub_category  \n",
       "5494               Chairs&Chairmats  \n",
       "5495  Bindersand Binder Accessories  \n",
       "5496                Office Machines  \n",
       "5497                      Bookcases  \n",
       "5498             Office Furnishings  "
      ]
     },
     "execution_count": 32,
     "metadata": {},
     "output_type": "execute_result"
    }
   ],
   "source": [
    "df_clean.tail()"
   ]
  },
  {
   "cell_type": "markdown",
   "metadata": {},
   "source": [
    "Check outliers in the columns of order quantity, sales, discount, and discount values."
   ]
  },
  {
   "cell_type": "markdown",
   "metadata": {},
   "source": [
    "Check the size of the dataset after cleaning."
   ]
  },
  {
   "cell_type": "code",
   "execution_count": 33,
   "metadata": {},
   "outputs": [
    {
     "name": "stdout",
     "output_type": "stream",
     "text": [
      "The amount of data after cleaning 5499 row and 10 kolom \n"
     ]
    }
   ],
   "source": [
    "print('The amount of data after cleaning %d row and %d kolom ' % df_clean.shape)"
   ]
  },
  {
   "cell_type": "markdown",
   "metadata": {},
   "source": [
    "# 4. Analis\n",
    "\n",
    "The next step is to do the analysis. In this analysis process, what will be analyzed is\n",
    "\n",
    "a. sales revenue\n",
    "\n",
    "b. net profit margins\n",
    "\n",
    "c. Cost of Customer Acquisition (CAC)\n"
   ]
  },
  {
   "cell_type": "code",
   "execution_count": 34,
   "metadata": {},
   "outputs": [
    {
     "data": {
      "text/plain": [
       "0       2010\n",
       "1       2012\n",
       "2       2011\n",
       "3       2010\n",
       "4       2011\n",
       "        ... \n",
       "5494    2010\n",
       "5495    2012\n",
       "5496    2011\n",
       "5497    2010\n",
       "5498    2009\n",
       "Name: years, Length: 5499, dtype: int64"
      ]
     },
     "execution_count": 34,
     "metadata": {},
     "output_type": "execute_result"
    }
   ],
   "source": [
    "# The first step is to add a new column, namely the years column, to the dataset.\n",
    "df_clean['years'] = pd.DatetimeIndex(df_clean['order_date']).year\n",
    "df_clean['years']"
   ]
  },
  {
   "cell_type": "code",
   "execution_count": 35,
   "metadata": {},
   "outputs": [
    {
     "name": "stdout",
     "output_type": "stream",
     "text": [
      "  order_id    order_status             customer order_date  order_quantity  \\\n",
      "0        3  Order Finished  Muhammed Mac Intyre 2010-10-13               6   \n",
      "1      293  Order Finished         Barry French 2012-10-01              49   \n",
      "2      483  Order Finished        Clay Rozendal 2011-07-10              30   \n",
      "3      515  Order Finished       Carlos Soltero 2010-08-28              19   \n",
      "4      613  Order Finished         Carl Jackson 2011-06-17              12   \n",
      "\n",
      "      sales  discount  discount_value product_category  \\\n",
      "0    523080      0.04           20923  Office Supplies   \n",
      "1  20246040      0.07         1417223  Office Supplies   \n",
      "2   9931519      0.08          794522       Technology   \n",
      "3    788540      0.08           63083  Office Supplies   \n",
      "4    187080      0.03            5612  Office Supplies   \n",
      "\n",
      "            product_sub_category  years  \n",
      "0           Storage&Organization   2010  \n",
      "1                     Appliances   2012  \n",
      "2    Telephonesand Communication   2011  \n",
      "3                     Appliances   2010  \n",
      "4  Bindersand Binder Accessories   2011  \n"
     ]
    },
    {
     "data": {
      "text/plain": [
       "(4924,)"
      ]
     },
     "execution_count": 35,
     "metadata": {},
     "output_type": "execute_result"
    }
   ],
   "source": [
    "# Next is to filter using the order status \"finished.\"\n",
    "ovpby = df_clean.loc[df_clean['order_status'] == 'Order Finished']\n",
    "print(ovpby.head())\n",
    "ovpby['order_status'].shape"
   ]
  },
  {
   "cell_type": "code",
   "execution_count": 36,
   "metadata": {},
   "outputs": [],
   "source": [
    "# Following that, use \"Group by\" to group data by year and aggregate data for sales and order id. \n",
    "ovpby = ovpby.groupby(['years']).agg({'sales':'sum','order_id':pd.Series.nunique}).sort_values('years',ascending=True)\n",
    "ovpby = ovpby.rename(columns={'order_id':'number_of_orders'})"
   ]
  },
  {
   "cell_type": "code",
   "execution_count": 37,
   "metadata": {},
   "outputs": [
    {
     "data": {
      "text/html": [
       "<div>\n",
       "<style scoped>\n",
       "    .dataframe tbody tr th:only-of-type {\n",
       "        vertical-align: middle;\n",
       "    }\n",
       "\n",
       "    .dataframe tbody tr th {\n",
       "        vertical-align: top;\n",
       "    }\n",
       "\n",
       "    .dataframe thead th {\n",
       "        text-align: right;\n",
       "    }\n",
       "</style>\n",
       "<table border=\"1\" class=\"dataframe\">\n",
       "  <thead>\n",
       "    <tr style=\"text-align: right;\">\n",
       "      <th></th>\n",
       "      <th>sales</th>\n",
       "      <th>number_of_orders</th>\n",
       "    </tr>\n",
       "    <tr>\n",
       "      <th>years</th>\n",
       "      <th></th>\n",
       "      <th></th>\n",
       "    </tr>\n",
       "  </thead>\n",
       "  <tbody>\n",
       "    <tr>\n",
       "      <th>2009</th>\n",
       "      <td>4613872681</td>\n",
       "      <td>1244</td>\n",
       "    </tr>\n",
       "    <tr>\n",
       "      <th>2010</th>\n",
       "      <td>4059100607</td>\n",
       "      <td>1248</td>\n",
       "    </tr>\n",
       "    <tr>\n",
       "      <th>2011</th>\n",
       "      <td>4112036186</td>\n",
       "      <td>1178</td>\n",
       "    </tr>\n",
       "    <tr>\n",
       "      <th>2012</th>\n",
       "      <td>4482983158</td>\n",
       "      <td>1254</td>\n",
       "    </tr>\n",
       "  </tbody>\n",
       "</table>\n",
       "</div>"
      ],
      "text/plain": [
       "            sales  number_of_orders\n",
       "years                              \n",
       "2009   4613872681              1244\n",
       "2010   4059100607              1248\n",
       "2011   4112036186              1178\n",
       "2012   4482983158              1254"
      ]
     },
     "execution_count": 37,
     "metadata": {},
     "output_type": "execute_result"
    }
   ],
   "source": [
    "ovpby"
   ]
  },
  {
   "cell_type": "markdown",
   "metadata": {},
   "source": [
    "Rumus Formula yang akan digunakan\n",
    "\n",
    "                        GrowthSales=(sales[y]/sales[y−1]−1)×100%\n",
    " \n",
    "                        GrowthOrder=(order[y]/order[y−1]−1)×100%"
   ]
  },
  {
   "cell_type": "code",
   "execution_count": 38,
   "metadata": {},
   "outputs": [
    {
     "data": {
      "text/plain": [
       "[0, -0.12, 0.01, 0.09]"
      ]
     },
     "execution_count": 38,
     "metadata": {},
     "output_type": "execute_result"
    }
   ],
   "source": [
    "# Formula Growth Sales\n",
    "\n",
    "i = 0\n",
    "growth_sales = []\n",
    "while i <len(ovpby):\n",
    "    if i == 0:\n",
    "        growth_sales.append(0)\n",
    "        i+=1\n",
    "\n",
    "    growth_sales.append(round(((ovpby.iloc[i,0]/ovpby.iloc[i-1,0])-1),2))\n",
    "    i+=1\n",
    "growth_sales"
   ]
  },
  {
   "cell_type": "code",
   "execution_count": 39,
   "metadata": {},
   "outputs": [],
   "source": [
    "# Crate new coloumn growth sales\n",
    "ovpby['growth_sales_%'] = growth_sales"
   ]
  },
  {
   "cell_type": "code",
   "execution_count": 40,
   "metadata": {},
   "outputs": [
    {
     "data": {
      "text/plain": [
       "[0, 0.003, -0.056, 0.065]"
      ]
     },
     "execution_count": 40,
     "metadata": {},
     "output_type": "execute_result"
    }
   ],
   "source": [
    "# Create Formula Growth Order\n",
    "i = 0\n",
    "growth_order = []\n",
    "while i <len(ovpby):\n",
    "    if i == 0:\n",
    "        growth_order.append(0)\n",
    "        i+=1\n",
    "\n",
    "    growth_order.append(round(((ovpby.iloc[i,1]/ovpby.iloc[i-1,1])-1),3))\n",
    "    i+=1\n",
    "growth_order"
   ]
  },
  {
   "cell_type": "code",
   "execution_count": 41,
   "metadata": {},
   "outputs": [],
   "source": [
    "# Create new coloumn growth order\n",
    "ovpby['growth_order_%'] = growth_order"
   ]
  },
  {
   "cell_type": "code",
   "execution_count": 42,
   "metadata": {},
   "outputs": [
    {
     "data": {
      "text/html": [
       "<div>\n",
       "<style scoped>\n",
       "    .dataframe tbody tr th:only-of-type {\n",
       "        vertical-align: middle;\n",
       "    }\n",
       "\n",
       "    .dataframe tbody tr th {\n",
       "        vertical-align: top;\n",
       "    }\n",
       "\n",
       "    .dataframe thead th {\n",
       "        text-align: right;\n",
       "    }\n",
       "</style>\n",
       "<table border=\"1\" class=\"dataframe\">\n",
       "  <thead>\n",
       "    <tr style=\"text-align: right;\">\n",
       "      <th></th>\n",
       "      <th>sales</th>\n",
       "      <th>number_of_orders</th>\n",
       "      <th>growth_sales_%</th>\n",
       "      <th>growth_order_%</th>\n",
       "    </tr>\n",
       "    <tr>\n",
       "      <th>years</th>\n",
       "      <th></th>\n",
       "      <th></th>\n",
       "      <th></th>\n",
       "      <th></th>\n",
       "    </tr>\n",
       "  </thead>\n",
       "  <tbody>\n",
       "    <tr>\n",
       "      <th>2009</th>\n",
       "      <td>4613872681</td>\n",
       "      <td>1244</td>\n",
       "      <td>0.00</td>\n",
       "      <td>0.000</td>\n",
       "    </tr>\n",
       "    <tr>\n",
       "      <th>2010</th>\n",
       "      <td>4059100607</td>\n",
       "      <td>1248</td>\n",
       "      <td>-0.12</td>\n",
       "      <td>0.003</td>\n",
       "    </tr>\n",
       "    <tr>\n",
       "      <th>2011</th>\n",
       "      <td>4112036186</td>\n",
       "      <td>1178</td>\n",
       "      <td>0.01</td>\n",
       "      <td>-0.056</td>\n",
       "    </tr>\n",
       "    <tr>\n",
       "      <th>2012</th>\n",
       "      <td>4482983158</td>\n",
       "      <td>1254</td>\n",
       "      <td>0.09</td>\n",
       "      <td>0.065</td>\n",
       "    </tr>\n",
       "  </tbody>\n",
       "</table>\n",
       "</div>"
      ],
      "text/plain": [
       "            sales  number_of_orders  growth_sales_%  growth_order_%\n",
       "years                                                              \n",
       "2009   4613872681              1244            0.00           0.000\n",
       "2010   4059100607              1248           -0.12           0.003\n",
       "2011   4112036186              1178            0.01          -0.056\n",
       "2012   4482983158              1254            0.09           0.065"
      ]
     },
     "execution_count": 42,
     "metadata": {},
     "output_type": "execute_result"
    }
   ],
   "source": [
    "ovpby"
   ]
  },
  {
   "cell_type": "markdown",
   "metadata": {},
   "source": [
    "It can be seen that there was a decrease in growth sales that occurred in 2010, and there was a decrease in growth orders in 2011."
   ]
  },
  {
   "cell_type": "markdown",
   "metadata": {},
   "source": [
    "Overall performance by product and subcategory"
   ]
  },
  {
   "cell_type": "code",
   "execution_count": 43,
   "metadata": {},
   "outputs": [
    {
     "data": {
      "text/html": [
       "<div>\n",
       "<style scoped>\n",
       "    .dataframe tbody tr th:only-of-type {\n",
       "        vertical-align: middle;\n",
       "    }\n",
       "\n",
       "    .dataframe tbody tr th {\n",
       "        vertical-align: top;\n",
       "    }\n",
       "\n",
       "    .dataframe thead th {\n",
       "        text-align: right;\n",
       "    }\n",
       "</style>\n",
       "<table border=\"1\" class=\"dataframe\">\n",
       "  <thead>\n",
       "    <tr style=\"text-align: right;\">\n",
       "      <th></th>\n",
       "      <th>order_id</th>\n",
       "      <th>order_status</th>\n",
       "      <th>customer</th>\n",
       "      <th>order_date</th>\n",
       "      <th>order_quantity</th>\n",
       "      <th>sales</th>\n",
       "      <th>discount</th>\n",
       "      <th>discount_value</th>\n",
       "      <th>product_category</th>\n",
       "      <th>product_sub_category</th>\n",
       "      <th>years</th>\n",
       "    </tr>\n",
       "  </thead>\n",
       "  <tbody>\n",
       "    <tr>\n",
       "      <th>1</th>\n",
       "      <td>293</td>\n",
       "      <td>Order Finished</td>\n",
       "      <td>Barry French</td>\n",
       "      <td>2012-10-01</td>\n",
       "      <td>49</td>\n",
       "      <td>20246040</td>\n",
       "      <td>0.07</td>\n",
       "      <td>1417223</td>\n",
       "      <td>Office Supplies</td>\n",
       "      <td>Appliances</td>\n",
       "      <td>2012</td>\n",
       "    </tr>\n",
       "    <tr>\n",
       "      <th>2</th>\n",
       "      <td>483</td>\n",
       "      <td>Order Finished</td>\n",
       "      <td>Clay Rozendal</td>\n",
       "      <td>2011-07-10</td>\n",
       "      <td>30</td>\n",
       "      <td>9931519</td>\n",
       "      <td>0.08</td>\n",
       "      <td>794522</td>\n",
       "      <td>Technology</td>\n",
       "      <td>Telephonesand Communication</td>\n",
       "      <td>2011</td>\n",
       "    </tr>\n",
       "    <tr>\n",
       "      <th>4</th>\n",
       "      <td>613</td>\n",
       "      <td>Order Finished</td>\n",
       "      <td>Carl Jackson</td>\n",
       "      <td>2011-06-17</td>\n",
       "      <td>12</td>\n",
       "      <td>187080</td>\n",
       "      <td>0.03</td>\n",
       "      <td>5612</td>\n",
       "      <td>Office Supplies</td>\n",
       "      <td>Bindersand Binder Accessories</td>\n",
       "      <td>2011</td>\n",
       "    </tr>\n",
       "    <tr>\n",
       "      <th>5</th>\n",
       "      <td>643</td>\n",
       "      <td>Order Finished</td>\n",
       "      <td>Monica Federle</td>\n",
       "      <td>2011-03-24</td>\n",
       "      <td>21</td>\n",
       "      <td>5563640</td>\n",
       "      <td>0.07</td>\n",
       "      <td>389455</td>\n",
       "      <td>Office Supplies</td>\n",
       "      <td>Storage&amp;Organization</td>\n",
       "      <td>2011</td>\n",
       "    </tr>\n",
       "    <tr>\n",
       "      <th>8</th>\n",
       "      <td>868</td>\n",
       "      <td>Order Finished</td>\n",
       "      <td>Carlos Daly</td>\n",
       "      <td>2012-06-08</td>\n",
       "      <td>32</td>\n",
       "      <td>1433680</td>\n",
       "      <td>0.00</td>\n",
       "      <td>0</td>\n",
       "      <td>Office Supplies</td>\n",
       "      <td>Appliances</td>\n",
       "      <td>2012</td>\n",
       "    </tr>\n",
       "  </tbody>\n",
       "</table>\n",
       "</div>"
      ],
      "text/plain": [
       "  order_id    order_status        customer order_date  order_quantity  \\\n",
       "1      293  Order Finished    Barry French 2012-10-01              49   \n",
       "2      483  Order Finished   Clay Rozendal 2011-07-10              30   \n",
       "4      613  Order Finished    Carl Jackson 2011-06-17              12   \n",
       "5      643  Order Finished  Monica Federle 2011-03-24              21   \n",
       "8      868  Order Finished     Carlos Daly 2012-06-08              32   \n",
       "\n",
       "      sales  discount  discount_value product_category  \\\n",
       "1  20246040      0.07         1417223  Office Supplies   \n",
       "2   9931519      0.08          794522       Technology   \n",
       "4    187080      0.03            5612  Office Supplies   \n",
       "5   5563640      0.07          389455  Office Supplies   \n",
       "8   1433680      0.00               0  Office Supplies   \n",
       "\n",
       "            product_sub_category  years  \n",
       "1                     Appliances   2012  \n",
       "2    Telephonesand Communication   2011  \n",
       "4  Bindersand Binder Accessories   2011  \n",
       "5           Storage&Organization   2011  \n",
       "8                     Appliances   2012  "
      ]
     },
     "execution_count": 43,
     "metadata": {},
     "output_type": "execute_result"
    }
   ],
   "source": [
    "# Filtering the dataframe data by order_status and order_date\n",
    "ovpbsc = df_clean.loc[(df_clean['order_status'] == 'Order Finished') & ((df_clean['years'] == 2011) | (df_clean['years'] == 2012))]\n",
    "ovpbsc.head()"
   ]
  },
  {
   "cell_type": "code",
   "execution_count": 44,
   "metadata": {},
   "outputs": [],
   "source": [
    "# Data should be grouped by year and column subcategory, then aggregated for the sales and order id columns. \n",
    "ovpbsc = ovpbsc.groupby(['years','product_sub_category']).agg({'sales':'sum','order_id':pd.Series.nunique})\n",
    "ovpbsc = ovpbsc.sort_values(['years','sales'],ascending=[True,False])\n",
    "ovpbsc = ovpbsc.rename(columns={'order_id':'number_of_orders'})"
   ]
  },
  {
   "cell_type": "code",
   "execution_count": 45,
   "metadata": {},
   "outputs": [
    {
     "data": {
      "text/html": [
       "<div>\n",
       "<style scoped>\n",
       "    .dataframe tbody tr th:only-of-type {\n",
       "        vertical-align: middle;\n",
       "    }\n",
       "\n",
       "    .dataframe tbody tr th {\n",
       "        vertical-align: top;\n",
       "    }\n",
       "\n",
       "    .dataframe thead th {\n",
       "        text-align: right;\n",
       "    }\n",
       "</style>\n",
       "<table border=\"1\" class=\"dataframe\">\n",
       "  <thead>\n",
       "    <tr style=\"text-align: right;\">\n",
       "      <th></th>\n",
       "      <th></th>\n",
       "      <th>sales</th>\n",
       "      <th>number_of_orders</th>\n",
       "    </tr>\n",
       "    <tr>\n",
       "      <th>years</th>\n",
       "      <th>product_sub_category</th>\n",
       "      <th></th>\n",
       "      <th></th>\n",
       "    </tr>\n",
       "  </thead>\n",
       "  <tbody>\n",
       "    <tr>\n",
       "      <th rowspan=\"17\" valign=\"top\">2011</th>\n",
       "      <th>Chairs&amp;Chairmats</th>\n",
       "      <td>622962720</td>\n",
       "      <td>72</td>\n",
       "    </tr>\n",
       "    <tr>\n",
       "      <th>Office Machines</th>\n",
       "      <td>545856280</td>\n",
       "      <td>43</td>\n",
       "    </tr>\n",
       "    <tr>\n",
       "      <th>Tables</th>\n",
       "      <td>505875008</td>\n",
       "      <td>41</td>\n",
       "    </tr>\n",
       "    <tr>\n",
       "      <th>Copiersand Fax</th>\n",
       "      <td>404074080</td>\n",
       "      <td>14</td>\n",
       "    </tr>\n",
       "    <tr>\n",
       "      <th>Telephonesand Communication</th>\n",
       "      <td>392194658</td>\n",
       "      <td>92</td>\n",
       "    </tr>\n",
       "    <tr>\n",
       "      <th>Bindersand Binder Accessories</th>\n",
       "      <td>298023200</td>\n",
       "      <td>178</td>\n",
       "    </tr>\n",
       "    <tr>\n",
       "      <th>Storage&amp;Organization</th>\n",
       "      <td>285991820</td>\n",
       "      <td>58</td>\n",
       "    </tr>\n",
       "    <tr>\n",
       "      <th>Appliances</th>\n",
       "      <td>272630020</td>\n",
       "      <td>81</td>\n",
       "    </tr>\n",
       "    <tr>\n",
       "      <th>Computer Peripherals</th>\n",
       "      <td>232677960</td>\n",
       "      <td>106</td>\n",
       "    </tr>\n",
       "    <tr>\n",
       "      <th>Bookcases</th>\n",
       "      <td>169304620</td>\n",
       "      <td>26</td>\n",
       "    </tr>\n",
       "    <tr>\n",
       "      <th>Office Furnishings</th>\n",
       "      <td>160471500</td>\n",
       "      <td>111</td>\n",
       "    </tr>\n",
       "    <tr>\n",
       "      <th>Paper</th>\n",
       "      <td>111080380</td>\n",
       "      <td>162</td>\n",
       "    </tr>\n",
       "    <tr>\n",
       "      <th>Pens&amp;Art Supplies</th>\n",
       "      <td>43093800</td>\n",
       "      <td>78</td>\n",
       "    </tr>\n",
       "    <tr>\n",
       "      <th>Envelopes</th>\n",
       "      <td>36463900</td>\n",
       "      <td>34</td>\n",
       "    </tr>\n",
       "    <tr>\n",
       "      <th>Labels</th>\n",
       "      <td>15607780</td>\n",
       "      <td>45</td>\n",
       "    </tr>\n",
       "    <tr>\n",
       "      <th>Scissors,Rulersand Trimmers</th>\n",
       "      <td>12638340</td>\n",
       "      <td>19</td>\n",
       "    </tr>\n",
       "    <tr>\n",
       "      <th>Rubber Bands</th>\n",
       "      <td>3090120</td>\n",
       "      <td>18</td>\n",
       "    </tr>\n",
       "    <tr>\n",
       "      <th rowspan=\"17\" valign=\"top\">2012</th>\n",
       "      <th>Office Machines</th>\n",
       "      <td>811427140</td>\n",
       "      <td>59</td>\n",
       "    </tr>\n",
       "    <tr>\n",
       "      <th>Chairs&amp;Chairmats</th>\n",
       "      <td>654168740</td>\n",
       "      <td>69</td>\n",
       "    </tr>\n",
       "    <tr>\n",
       "      <th>Telephonesand Communication</th>\n",
       "      <td>422287514</td>\n",
       "      <td>99</td>\n",
       "    </tr>\n",
       "    <tr>\n",
       "      <th>Tables</th>\n",
       "      <td>388993784</td>\n",
       "      <td>40</td>\n",
       "    </tr>\n",
       "    <tr>\n",
       "      <th>Bindersand Binder Accessories</th>\n",
       "      <td>363879200</td>\n",
       "      <td>176</td>\n",
       "    </tr>\n",
       "    <tr>\n",
       "      <th>Storage&amp;Organization</th>\n",
       "      <td>356714140</td>\n",
       "      <td>71</td>\n",
       "    </tr>\n",
       "    <tr>\n",
       "      <th>Computer Peripherals</th>\n",
       "      <td>308014340</td>\n",
       "      <td>132</td>\n",
       "    </tr>\n",
       "    <tr>\n",
       "      <th>Copiersand Fax</th>\n",
       "      <td>292489800</td>\n",
       "      <td>12</td>\n",
       "    </tr>\n",
       "    <tr>\n",
       "      <th>Appliances</th>\n",
       "      <td>266131100</td>\n",
       "      <td>79</td>\n",
       "    </tr>\n",
       "    <tr>\n",
       "      <th>Office Furnishings</th>\n",
       "      <td>178927480</td>\n",
       "      <td>108</td>\n",
       "    </tr>\n",
       "    <tr>\n",
       "      <th>Bookcases</th>\n",
       "      <td>159984680</td>\n",
       "      <td>28</td>\n",
       "    </tr>\n",
       "    <tr>\n",
       "      <th>Paper</th>\n",
       "      <td>126896160</td>\n",
       "      <td>167</td>\n",
       "    </tr>\n",
       "    <tr>\n",
       "      <th>Envelopes</th>\n",
       "      <td>58629280</td>\n",
       "      <td>42</td>\n",
       "    </tr>\n",
       "    <tr>\n",
       "      <th>Pens&amp;Art Supplies</th>\n",
       "      <td>43818480</td>\n",
       "      <td>81</td>\n",
       "    </tr>\n",
       "    <tr>\n",
       "      <th>Scissors,Rulersand Trimmers</th>\n",
       "      <td>36776400</td>\n",
       "      <td>21</td>\n",
       "    </tr>\n",
       "    <tr>\n",
       "      <th>Labels</th>\n",
       "      <td>10007040</td>\n",
       "      <td>48</td>\n",
       "    </tr>\n",
       "    <tr>\n",
       "      <th>Rubber Bands</th>\n",
       "      <td>3837880</td>\n",
       "      <td>22</td>\n",
       "    </tr>\n",
       "  </tbody>\n",
       "</table>\n",
       "</div>"
      ],
      "text/plain": [
       "                                         sales  number_of_orders\n",
       "years product_sub_category                                      \n",
       "2011  Chairs&Chairmats               622962720                72\n",
       "      Office Machines                545856280                43\n",
       "      Tables                         505875008                41\n",
       "      Copiersand Fax                 404074080                14\n",
       "      Telephonesand Communication    392194658                92\n",
       "      Bindersand Binder Accessories  298023200               178\n",
       "      Storage&Organization           285991820                58\n",
       "      Appliances                     272630020                81\n",
       "      Computer Peripherals           232677960               106\n",
       "      Bookcases                      169304620                26\n",
       "      Office Furnishings             160471500               111\n",
       "      Paper                          111080380               162\n",
       "      Pens&Art Supplies               43093800                78\n",
       "      Envelopes                       36463900                34\n",
       "      Labels                          15607780                45\n",
       "      Scissors,Rulersand Trimmers     12638340                19\n",
       "      Rubber Bands                     3090120                18\n",
       "2012  Office Machines                811427140                59\n",
       "      Chairs&Chairmats               654168740                69\n",
       "      Telephonesand Communication    422287514                99\n",
       "      Tables                         388993784                40\n",
       "      Bindersand Binder Accessories  363879200               176\n",
       "      Storage&Organization           356714140                71\n",
       "      Computer Peripherals           308014340               132\n",
       "      Copiersand Fax                 292489800                12\n",
       "      Appliances                     266131100                79\n",
       "      Office Furnishings             178927480               108\n",
       "      Bookcases                      159984680                28\n",
       "      Paper                          126896160               167\n",
       "      Envelopes                       58629280                42\n",
       "      Pens&Art Supplies               43818480                81\n",
       "      Scissors,Rulersand Trimmers     36776400                21\n",
       "      Labels                          10007040                48\n",
       "      Rubber Bands                     3837880                22"
      ]
     },
     "execution_count": 45,
     "metadata": {},
     "output_type": "execute_result"
    }
   ],
   "source": [
    "ovpbsc"
   ]
  },
  {
   "cell_type": "markdown",
   "metadata": {},
   "source": [
    "Analysis based on sales\n",
    "\n",
    "using the burn rate method, which is to see the effectiveness of the campaign that has been made. for a formula like the following:\n",
    "\n",
    "BurnRate = Total Discount / Total Sales × 100%"
   ]
  },
  {
   "cell_type": "code",
   "execution_count": 46,
   "metadata": {},
   "outputs": [
    {
     "data": {
      "text/html": [
       "<div>\n",
       "<style scoped>\n",
       "    .dataframe tbody tr th:only-of-type {\n",
       "        vertical-align: middle;\n",
       "    }\n",
       "\n",
       "    .dataframe tbody tr th {\n",
       "        vertical-align: top;\n",
       "    }\n",
       "\n",
       "    .dataframe thead th {\n",
       "        text-align: right;\n",
       "    }\n",
       "</style>\n",
       "<table border=\"1\" class=\"dataframe\">\n",
       "  <thead>\n",
       "    <tr style=\"text-align: right;\">\n",
       "      <th></th>\n",
       "      <th>order_id</th>\n",
       "      <th>order_status</th>\n",
       "      <th>customer</th>\n",
       "      <th>order_date</th>\n",
       "      <th>order_quantity</th>\n",
       "      <th>sales</th>\n",
       "      <th>discount</th>\n",
       "      <th>discount_value</th>\n",
       "      <th>product_category</th>\n",
       "      <th>product_sub_category</th>\n",
       "      <th>years</th>\n",
       "    </tr>\n",
       "  </thead>\n",
       "  <tbody>\n",
       "    <tr>\n",
       "      <th>0</th>\n",
       "      <td>3</td>\n",
       "      <td>Order Finished</td>\n",
       "      <td>Muhammed Mac Intyre</td>\n",
       "      <td>2010-10-13</td>\n",
       "      <td>6</td>\n",
       "      <td>523080</td>\n",
       "      <td>0.04</td>\n",
       "      <td>20923</td>\n",
       "      <td>Office Supplies</td>\n",
       "      <td>Storage&amp;Organization</td>\n",
       "      <td>2010</td>\n",
       "    </tr>\n",
       "    <tr>\n",
       "      <th>1</th>\n",
       "      <td>293</td>\n",
       "      <td>Order Finished</td>\n",
       "      <td>Barry French</td>\n",
       "      <td>2012-10-01</td>\n",
       "      <td>49</td>\n",
       "      <td>20246040</td>\n",
       "      <td>0.07</td>\n",
       "      <td>1417223</td>\n",
       "      <td>Office Supplies</td>\n",
       "      <td>Appliances</td>\n",
       "      <td>2012</td>\n",
       "    </tr>\n",
       "    <tr>\n",
       "      <th>2</th>\n",
       "      <td>483</td>\n",
       "      <td>Order Finished</td>\n",
       "      <td>Clay Rozendal</td>\n",
       "      <td>2011-07-10</td>\n",
       "      <td>30</td>\n",
       "      <td>9931519</td>\n",
       "      <td>0.08</td>\n",
       "      <td>794522</td>\n",
       "      <td>Technology</td>\n",
       "      <td>Telephonesand Communication</td>\n",
       "      <td>2011</td>\n",
       "    </tr>\n",
       "    <tr>\n",
       "      <th>3</th>\n",
       "      <td>515</td>\n",
       "      <td>Order Finished</td>\n",
       "      <td>Carlos Soltero</td>\n",
       "      <td>2010-08-28</td>\n",
       "      <td>19</td>\n",
       "      <td>788540</td>\n",
       "      <td>0.08</td>\n",
       "      <td>63083</td>\n",
       "      <td>Office Supplies</td>\n",
       "      <td>Appliances</td>\n",
       "      <td>2010</td>\n",
       "    </tr>\n",
       "    <tr>\n",
       "      <th>4</th>\n",
       "      <td>613</td>\n",
       "      <td>Order Finished</td>\n",
       "      <td>Carl Jackson</td>\n",
       "      <td>2011-06-17</td>\n",
       "      <td>12</td>\n",
       "      <td>187080</td>\n",
       "      <td>0.03</td>\n",
       "      <td>5612</td>\n",
       "      <td>Office Supplies</td>\n",
       "      <td>Bindersand Binder Accessories</td>\n",
       "      <td>2011</td>\n",
       "    </tr>\n",
       "  </tbody>\n",
       "</table>\n",
       "</div>"
      ],
      "text/plain": [
       "  order_id    order_status             customer order_date  order_quantity  \\\n",
       "0        3  Order Finished  Muhammed Mac Intyre 2010-10-13               6   \n",
       "1      293  Order Finished         Barry French 2012-10-01              49   \n",
       "2      483  Order Finished        Clay Rozendal 2011-07-10              30   \n",
       "3      515  Order Finished       Carlos Soltero 2010-08-28              19   \n",
       "4      613  Order Finished         Carl Jackson 2011-06-17              12   \n",
       "\n",
       "      sales  discount  discount_value product_category  \\\n",
       "0    523080      0.04           20923  Office Supplies   \n",
       "1  20246040      0.07         1417223  Office Supplies   \n",
       "2   9931519      0.08          794522       Technology   \n",
       "3    788540      0.08           63083  Office Supplies   \n",
       "4    187080      0.03            5612  Office Supplies   \n",
       "\n",
       "            product_sub_category  years  \n",
       "0           Storage&Organization   2010  \n",
       "1                     Appliances   2012  \n",
       "2    Telephonesand Communication   2011  \n",
       "3                     Appliances   2010  \n",
       "4  Bindersand Binder Accessories   2011  "
      ]
     },
     "execution_count": 46,
     "metadata": {},
     "output_type": "execute_result"
    }
   ],
   "source": [
    "# filter dataframe on order status\n",
    "Brby = df_clean.loc[df_clean['order_status'] == 'Order Finished']\n",
    "Brby.head()"
   ]
  },
  {
   "cell_type": "code",
   "execution_count": 47,
   "metadata": {},
   "outputs": [
    {
     "data": {
      "text/html": [
       "<div>\n",
       "<style scoped>\n",
       "    .dataframe tbody tr th:only-of-type {\n",
       "        vertical-align: middle;\n",
       "    }\n",
       "\n",
       "    .dataframe tbody tr th {\n",
       "        vertical-align: top;\n",
       "    }\n",
       "\n",
       "    .dataframe thead th {\n",
       "        text-align: right;\n",
       "    }\n",
       "</style>\n",
       "<table border=\"1\" class=\"dataframe\">\n",
       "  <thead>\n",
       "    <tr style=\"text-align: right;\">\n",
       "      <th></th>\n",
       "      <th>sales</th>\n",
       "      <th>discount_value</th>\n",
       "    </tr>\n",
       "    <tr>\n",
       "      <th>years</th>\n",
       "      <th></th>\n",
       "      <th></th>\n",
       "    </tr>\n",
       "  </thead>\n",
       "  <tbody>\n",
       "    <tr>\n",
       "      <th>2009</th>\n",
       "      <td>4613872681</td>\n",
       "      <td>214330327</td>\n",
       "    </tr>\n",
       "    <tr>\n",
       "      <th>2010</th>\n",
       "      <td>4059100607</td>\n",
       "      <td>197506939</td>\n",
       "    </tr>\n",
       "    <tr>\n",
       "      <th>2011</th>\n",
       "      <td>4112036186</td>\n",
       "      <td>214611556</td>\n",
       "    </tr>\n",
       "    <tr>\n",
       "      <th>2012</th>\n",
       "      <td>4482983158</td>\n",
       "      <td>225867642</td>\n",
       "    </tr>\n",
       "  </tbody>\n",
       "</table>\n",
       "</div>"
      ],
      "text/plain": [
       "            sales  discount_value\n",
       "years                            \n",
       "2009   4613872681       214330327\n",
       "2010   4059100607       197506939\n",
       "2011   4112036186       214611556\n",
       "2012   4482983158       225867642"
      ]
     },
     "execution_count": 47,
     "metadata": {},
     "output_type": "execute_result"
    }
   ],
   "source": [
    "# Then use Groupby to group data by year and aggregate sales and discount values. \n",
    "Brby = Brby.groupby(['years']).agg({'sales':'sum', 'discount_value':'sum'})\n",
    "Brby"
   ]
  },
  {
   "cell_type": "code",
   "execution_count": 48,
   "metadata": {},
   "outputs": [],
   "source": [
    "# Create a new column, namely \"burn rate percentage.\"\n",
    "Brby['burn_rate'] = ((Brby['discount_value'])/(Brby['sales'])).round(4)\n",
    "Brby = Brby.rename(columns={'discount_value': 'promotion_value'})\n"
   ]
  },
  {
   "cell_type": "code",
   "execution_count": 49,
   "metadata": {},
   "outputs": [
    {
     "data": {
      "text/html": [
       "<div>\n",
       "<style scoped>\n",
       "    .dataframe tbody tr th:only-of-type {\n",
       "        vertical-align: middle;\n",
       "    }\n",
       "\n",
       "    .dataframe tbody tr th {\n",
       "        vertical-align: top;\n",
       "    }\n",
       "\n",
       "    .dataframe thead th {\n",
       "        text-align: right;\n",
       "    }\n",
       "</style>\n",
       "<table border=\"1\" class=\"dataframe\">\n",
       "  <thead>\n",
       "    <tr style=\"text-align: right;\">\n",
       "      <th></th>\n",
       "      <th>sales</th>\n",
       "      <th>promotion_value</th>\n",
       "      <th>burn_rate</th>\n",
       "    </tr>\n",
       "    <tr>\n",
       "      <th>years</th>\n",
       "      <th></th>\n",
       "      <th></th>\n",
       "      <th></th>\n",
       "    </tr>\n",
       "  </thead>\n",
       "  <tbody>\n",
       "    <tr>\n",
       "      <th>2009</th>\n",
       "      <td>4613872681</td>\n",
       "      <td>214330327</td>\n",
       "      <td>0.0465</td>\n",
       "    </tr>\n",
       "    <tr>\n",
       "      <th>2010</th>\n",
       "      <td>4059100607</td>\n",
       "      <td>197506939</td>\n",
       "      <td>0.0487</td>\n",
       "    </tr>\n",
       "    <tr>\n",
       "      <th>2011</th>\n",
       "      <td>4112036186</td>\n",
       "      <td>214611556</td>\n",
       "      <td>0.0522</td>\n",
       "    </tr>\n",
       "    <tr>\n",
       "      <th>2012</th>\n",
       "      <td>4482983158</td>\n",
       "      <td>225867642</td>\n",
       "      <td>0.0504</td>\n",
       "    </tr>\n",
       "  </tbody>\n",
       "</table>\n",
       "</div>"
      ],
      "text/plain": [
       "            sales  promotion_value  burn_rate\n",
       "years                                        \n",
       "2009   4613872681        214330327     0.0465\n",
       "2010   4059100607        197506939     0.0487\n",
       "2011   4112036186        214611556     0.0522\n",
       "2012   4482983158        225867642     0.0504"
      ]
     },
     "execution_count": 49,
     "metadata": {},
     "output_type": "execute_result"
    }
   ],
   "source": [
    "Brby"
   ]
  },
  {
   "cell_type": "markdown",
   "metadata": {},
   "source": [
    "Analyst based on Customer "
   ]
  },
  {
   "cell_type": "code",
   "execution_count": 50,
   "metadata": {},
   "outputs": [
    {
     "data": {
      "text/html": [
       "<div>\n",
       "<style scoped>\n",
       "    .dataframe tbody tr th:only-of-type {\n",
       "        vertical-align: middle;\n",
       "    }\n",
       "\n",
       "    .dataframe tbody tr th {\n",
       "        vertical-align: top;\n",
       "    }\n",
       "\n",
       "    .dataframe thead th {\n",
       "        text-align: right;\n",
       "    }\n",
       "</style>\n",
       "<table border=\"1\" class=\"dataframe\">\n",
       "  <thead>\n",
       "    <tr style=\"text-align: right;\">\n",
       "      <th></th>\n",
       "      <th>order_id</th>\n",
       "      <th>order_status</th>\n",
       "      <th>customer</th>\n",
       "      <th>order_date</th>\n",
       "      <th>order_quantity</th>\n",
       "      <th>sales</th>\n",
       "      <th>discount</th>\n",
       "      <th>discount_value</th>\n",
       "      <th>product_category</th>\n",
       "      <th>product_sub_category</th>\n",
       "      <th>years</th>\n",
       "    </tr>\n",
       "  </thead>\n",
       "  <tbody>\n",
       "    <tr>\n",
       "      <th>0</th>\n",
       "      <td>3</td>\n",
       "      <td>Order Finished</td>\n",
       "      <td>Muhammed Mac Intyre</td>\n",
       "      <td>2010-10-13</td>\n",
       "      <td>6</td>\n",
       "      <td>523080</td>\n",
       "      <td>0.04</td>\n",
       "      <td>20923</td>\n",
       "      <td>Office Supplies</td>\n",
       "      <td>Storage&amp;Organization</td>\n",
       "      <td>2010</td>\n",
       "    </tr>\n",
       "    <tr>\n",
       "      <th>1</th>\n",
       "      <td>293</td>\n",
       "      <td>Order Finished</td>\n",
       "      <td>Barry French</td>\n",
       "      <td>2012-10-01</td>\n",
       "      <td>49</td>\n",
       "      <td>20246040</td>\n",
       "      <td>0.07</td>\n",
       "      <td>1417223</td>\n",
       "      <td>Office Supplies</td>\n",
       "      <td>Appliances</td>\n",
       "      <td>2012</td>\n",
       "    </tr>\n",
       "    <tr>\n",
       "      <th>2</th>\n",
       "      <td>483</td>\n",
       "      <td>Order Finished</td>\n",
       "      <td>Clay Rozendal</td>\n",
       "      <td>2011-07-10</td>\n",
       "      <td>30</td>\n",
       "      <td>9931519</td>\n",
       "      <td>0.08</td>\n",
       "      <td>794522</td>\n",
       "      <td>Technology</td>\n",
       "      <td>Telephonesand Communication</td>\n",
       "      <td>2011</td>\n",
       "    </tr>\n",
       "    <tr>\n",
       "      <th>3</th>\n",
       "      <td>515</td>\n",
       "      <td>Order Finished</td>\n",
       "      <td>Carlos Soltero</td>\n",
       "      <td>2010-08-28</td>\n",
       "      <td>19</td>\n",
       "      <td>788540</td>\n",
       "      <td>0.08</td>\n",
       "      <td>63083</td>\n",
       "      <td>Office Supplies</td>\n",
       "      <td>Appliances</td>\n",
       "      <td>2010</td>\n",
       "    </tr>\n",
       "    <tr>\n",
       "      <th>4</th>\n",
       "      <td>613</td>\n",
       "      <td>Order Finished</td>\n",
       "      <td>Carl Jackson</td>\n",
       "      <td>2011-06-17</td>\n",
       "      <td>12</td>\n",
       "      <td>187080</td>\n",
       "      <td>0.03</td>\n",
       "      <td>5612</td>\n",
       "      <td>Office Supplies</td>\n",
       "      <td>Bindersand Binder Accessories</td>\n",
       "      <td>2011</td>\n",
       "    </tr>\n",
       "  </tbody>\n",
       "</table>\n",
       "</div>"
      ],
      "text/plain": [
       "  order_id    order_status             customer order_date  order_quantity  \\\n",
       "0        3  Order Finished  Muhammed Mac Intyre 2010-10-13               6   \n",
       "1      293  Order Finished         Barry French 2012-10-01              49   \n",
       "2      483  Order Finished        Clay Rozendal 2011-07-10              30   \n",
       "3      515  Order Finished       Carlos Soltero 2010-08-28              19   \n",
       "4      613  Order Finished         Carl Jackson 2011-06-17              12   \n",
       "\n",
       "      sales  discount  discount_value product_category  \\\n",
       "0    523080      0.04           20923  Office Supplies   \n",
       "1  20246040      0.07         1417223  Office Supplies   \n",
       "2   9931519      0.08          794522       Technology   \n",
       "3    788540      0.08           63083  Office Supplies   \n",
       "4    187080      0.03            5612  Office Supplies   \n",
       "\n",
       "            product_sub_category  years  \n",
       "0           Storage&Organization   2010  \n",
       "1                     Appliances   2012  \n",
       "2    Telephonesand Communication   2011  \n",
       "3                     Appliances   2010  \n",
       "4  Bindersand Binder Accessories   2011  "
      ]
     },
     "execution_count": 50,
     "metadata": {},
     "output_type": "execute_result"
    }
   ],
   "source": [
    "# Customer Transaction per years\n",
    "# Filter Dataframe dengan order status\n",
    "CTY = df_clean.loc[df_clean['order_status'] == 'Order Finished']\n",
    "CTY.head()"
   ]
  },
  {
   "cell_type": "code",
   "execution_count": 51,
   "metadata": {},
   "outputs": [],
   "source": [
    "# grouping data by year, then aggregating data for the customer column\n",
    "CTY = CTY.groupby(['years']).agg({'customer':pd.Series.nunique})\n",
    "CTY = CTY.rename(columns={'customer':'number_of_Unique_customer'})"
   ]
  },
  {
   "cell_type": "code",
   "execution_count": 52,
   "metadata": {},
   "outputs": [
    {
     "data": {
      "text/html": [
       "<div>\n",
       "<style scoped>\n",
       "    .dataframe tbody tr th:only-of-type {\n",
       "        vertical-align: middle;\n",
       "    }\n",
       "\n",
       "    .dataframe tbody tr th {\n",
       "        vertical-align: top;\n",
       "    }\n",
       "\n",
       "    .dataframe thead th {\n",
       "        text-align: right;\n",
       "    }\n",
       "</style>\n",
       "<table border=\"1\" class=\"dataframe\">\n",
       "  <thead>\n",
       "    <tr style=\"text-align: right;\">\n",
       "      <th></th>\n",
       "      <th>number_of_Unique_customer</th>\n",
       "    </tr>\n",
       "    <tr>\n",
       "      <th>years</th>\n",
       "      <th></th>\n",
       "    </tr>\n",
       "  </thead>\n",
       "  <tbody>\n",
       "    <tr>\n",
       "      <th>2009</th>\n",
       "      <td>585</td>\n",
       "    </tr>\n",
       "    <tr>\n",
       "      <th>2010</th>\n",
       "      <td>593</td>\n",
       "    </tr>\n",
       "    <tr>\n",
       "      <th>2011</th>\n",
       "      <td>581</td>\n",
       "    </tr>\n",
       "    <tr>\n",
       "      <th>2012</th>\n",
       "      <td>594</td>\n",
       "    </tr>\n",
       "  </tbody>\n",
       "</table>\n",
       "</div>"
      ],
      "text/plain": [
       "       number_of_Unique_customer\n",
       "years                           \n",
       "2009                         585\n",
       "2010                         593\n",
       "2011                         581\n",
       "2012                         594"
      ]
     },
     "execution_count": 52,
     "metadata": {},
     "output_type": "execute_result"
    }
   ],
   "source": [
    "CTY"
   ]
  },
  {
   "cell_type": "markdown",
   "metadata": {},
   "source": [
    "New Buyer Acquisition"
   ]
  },
  {
   "cell_type": "code",
   "execution_count": 53,
   "metadata": {},
   "outputs": [
    {
     "data": {
      "text/html": [
       "<div>\n",
       "<style scoped>\n",
       "    .dataframe tbody tr th:only-of-type {\n",
       "        vertical-align: middle;\n",
       "    }\n",
       "\n",
       "    .dataframe tbody tr th {\n",
       "        vertical-align: top;\n",
       "    }\n",
       "\n",
       "    .dataframe thead th {\n",
       "        text-align: right;\n",
       "    }\n",
       "</style>\n",
       "<table border=\"1\" class=\"dataframe\">\n",
       "  <thead>\n",
       "    <tr style=\"text-align: right;\">\n",
       "      <th></th>\n",
       "      <th>order_id</th>\n",
       "      <th>order_status</th>\n",
       "      <th>customer</th>\n",
       "      <th>order_date</th>\n",
       "      <th>order_quantity</th>\n",
       "      <th>sales</th>\n",
       "      <th>discount</th>\n",
       "      <th>discount_value</th>\n",
       "      <th>product_category</th>\n",
       "      <th>product_sub_category</th>\n",
       "      <th>years</th>\n",
       "    </tr>\n",
       "  </thead>\n",
       "  <tbody>\n",
       "    <tr>\n",
       "      <th>0</th>\n",
       "      <td>3</td>\n",
       "      <td>Order Finished</td>\n",
       "      <td>Muhammed Mac Intyre</td>\n",
       "      <td>2010-10-13</td>\n",
       "      <td>6</td>\n",
       "      <td>523080</td>\n",
       "      <td>0.04</td>\n",
       "      <td>20923</td>\n",
       "      <td>Office Supplies</td>\n",
       "      <td>Storage&amp;Organization</td>\n",
       "      <td>2010</td>\n",
       "    </tr>\n",
       "    <tr>\n",
       "      <th>1</th>\n",
       "      <td>293</td>\n",
       "      <td>Order Finished</td>\n",
       "      <td>Barry French</td>\n",
       "      <td>2012-10-01</td>\n",
       "      <td>49</td>\n",
       "      <td>20246040</td>\n",
       "      <td>0.07</td>\n",
       "      <td>1417223</td>\n",
       "      <td>Office Supplies</td>\n",
       "      <td>Appliances</td>\n",
       "      <td>2012</td>\n",
       "    </tr>\n",
       "    <tr>\n",
       "      <th>2</th>\n",
       "      <td>483</td>\n",
       "      <td>Order Finished</td>\n",
       "      <td>Clay Rozendal</td>\n",
       "      <td>2011-07-10</td>\n",
       "      <td>30</td>\n",
       "      <td>9931519</td>\n",
       "      <td>0.08</td>\n",
       "      <td>794522</td>\n",
       "      <td>Technology</td>\n",
       "      <td>Telephonesand Communication</td>\n",
       "      <td>2011</td>\n",
       "    </tr>\n",
       "    <tr>\n",
       "      <th>3</th>\n",
       "      <td>515</td>\n",
       "      <td>Order Finished</td>\n",
       "      <td>Carlos Soltero</td>\n",
       "      <td>2010-08-28</td>\n",
       "      <td>19</td>\n",
       "      <td>788540</td>\n",
       "      <td>0.08</td>\n",
       "      <td>63083</td>\n",
       "      <td>Office Supplies</td>\n",
       "      <td>Appliances</td>\n",
       "      <td>2010</td>\n",
       "    </tr>\n",
       "    <tr>\n",
       "      <th>4</th>\n",
       "      <td>613</td>\n",
       "      <td>Order Finished</td>\n",
       "      <td>Carl Jackson</td>\n",
       "      <td>2011-06-17</td>\n",
       "      <td>12</td>\n",
       "      <td>187080</td>\n",
       "      <td>0.03</td>\n",
       "      <td>5612</td>\n",
       "      <td>Office Supplies</td>\n",
       "      <td>Bindersand Binder Accessories</td>\n",
       "      <td>2011</td>\n",
       "    </tr>\n",
       "  </tbody>\n",
       "</table>\n",
       "</div>"
      ],
      "text/plain": [
       "  order_id    order_status             customer order_date  order_quantity  \\\n",
       "0        3  Order Finished  Muhammed Mac Intyre 2010-10-13               6   \n",
       "1      293  Order Finished         Barry French 2012-10-01              49   \n",
       "2      483  Order Finished        Clay Rozendal 2011-07-10              30   \n",
       "3      515  Order Finished       Carlos Soltero 2010-08-28              19   \n",
       "4      613  Order Finished         Carl Jackson 2011-06-17              12   \n",
       "\n",
       "      sales  discount  discount_value product_category  \\\n",
       "0    523080      0.04           20923  Office Supplies   \n",
       "1  20246040      0.07         1417223  Office Supplies   \n",
       "2   9931519      0.08          794522       Technology   \n",
       "3    788540      0.08           63083  Office Supplies   \n",
       "4    187080      0.03            5612  Office Supplies   \n",
       "\n",
       "            product_sub_category  years  \n",
       "0           Storage&Organization   2010  \n",
       "1                     Appliances   2012  \n",
       "2    Telephonesand Communication   2011  \n",
       "3                     Appliances   2010  \n",
       "4  Bindersand Binder Accessories   2011  "
      ]
     },
     "execution_count": 53,
     "metadata": {},
     "output_type": "execute_result"
    }
   ],
   "source": [
    "# Filter Dataframe on order status\n",
    "NBA = df_clean.loc[df_clean['order_status'] == 'Order Finished']\n",
    "NBA.head()"
   ]
  },
  {
   "cell_type": "code",
   "execution_count": 54,
   "metadata": {},
   "outputs": [],
   "source": [
    "NBA = NBA.sort_values('order_date', ascending=True)"
   ]
  },
  {
   "cell_type": "code",
   "execution_count": 55,
   "metadata": {},
   "outputs": [
    {
     "data": {
      "text/html": [
       "<div>\n",
       "<style scoped>\n",
       "    .dataframe tbody tr th:only-of-type {\n",
       "        vertical-align: middle;\n",
       "    }\n",
       "\n",
       "    .dataframe tbody tr th {\n",
       "        vertical-align: top;\n",
       "    }\n",
       "\n",
       "    .dataframe thead th {\n",
       "        text-align: right;\n",
       "    }\n",
       "</style>\n",
       "<table border=\"1\" class=\"dataframe\">\n",
       "  <thead>\n",
       "    <tr style=\"text-align: right;\">\n",
       "      <th></th>\n",
       "      <th>order_id</th>\n",
       "      <th>order_status</th>\n",
       "      <th>customer</th>\n",
       "      <th>order_date</th>\n",
       "      <th>order_quantity</th>\n",
       "      <th>sales</th>\n",
       "      <th>discount</th>\n",
       "      <th>discount_value</th>\n",
       "      <th>product_category</th>\n",
       "      <th>product_sub_category</th>\n",
       "      <th>years</th>\n",
       "    </tr>\n",
       "  </thead>\n",
       "  <tbody>\n",
       "    <tr>\n",
       "      <th>2897</th>\n",
       "      <td>28774</td>\n",
       "      <td>Order Finished</td>\n",
       "      <td>Jessica Myrick</td>\n",
       "      <td>2009-01-01</td>\n",
       "      <td>32</td>\n",
       "      <td>360720</td>\n",
       "      <td>0.10</td>\n",
       "      <td>36072</td>\n",
       "      <td>Office Supplies</td>\n",
       "      <td>Storage&amp;Organization</td>\n",
       "      <td>2009</td>\n",
       "    </tr>\n",
       "    <tr>\n",
       "      <th>902</th>\n",
       "      <td>9285</td>\n",
       "      <td>Order Finished</td>\n",
       "      <td>David Philippe</td>\n",
       "      <td>2009-01-02</td>\n",
       "      <td>3</td>\n",
       "      <td>249620</td>\n",
       "      <td>0.06</td>\n",
       "      <td>14977</td>\n",
       "      <td>Office Supplies</td>\n",
       "      <td>Bindersand Binder Accessories</td>\n",
       "      <td>2009</td>\n",
       "    </tr>\n",
       "    <tr>\n",
       "      <th>4642</th>\n",
       "      <td>37537</td>\n",
       "      <td>Order Finished</td>\n",
       "      <td>Alan Schoenberger</td>\n",
       "      <td>2009-01-02</td>\n",
       "      <td>4</td>\n",
       "      <td>2478120</td>\n",
       "      <td>0.00</td>\n",
       "      <td>0</td>\n",
       "      <td>Furniture</td>\n",
       "      <td>Chairs&amp;Chairmats</td>\n",
       "      <td>2009</td>\n",
       "    </tr>\n",
       "    <tr>\n",
       "      <th>4697</th>\n",
       "      <td>44069</td>\n",
       "      <td>Order Finished</td>\n",
       "      <td>Elizabeth Moffitt</td>\n",
       "      <td>2009-01-02</td>\n",
       "      <td>16</td>\n",
       "      <td>275260</td>\n",
       "      <td>0.09</td>\n",
       "      <td>24773</td>\n",
       "      <td>Office Supplies</td>\n",
       "      <td>Paper</td>\n",
       "      <td>2009</td>\n",
       "    </tr>\n",
       "    <tr>\n",
       "      <th>5143</th>\n",
       "      <td>7909</td>\n",
       "      <td>Order Finished</td>\n",
       "      <td>Alex Russell</td>\n",
       "      <td>2009-01-03</td>\n",
       "      <td>29</td>\n",
       "      <td>244460</td>\n",
       "      <td>0.03</td>\n",
       "      <td>7334</td>\n",
       "      <td>Office Supplies</td>\n",
       "      <td>Pens&amp;Art Supplies</td>\n",
       "      <td>2009</td>\n",
       "    </tr>\n",
       "    <tr>\n",
       "      <th>...</th>\n",
       "      <td>...</td>\n",
       "      <td>...</td>\n",
       "      <td>...</td>\n",
       "      <td>...</td>\n",
       "      <td>...</td>\n",
       "      <td>...</td>\n",
       "      <td>...</td>\n",
       "      <td>...</td>\n",
       "      <td>...</td>\n",
       "      <td>...</td>\n",
       "      <td>...</td>\n",
       "    </tr>\n",
       "    <tr>\n",
       "      <th>613</th>\n",
       "      <td>13507</td>\n",
       "      <td>Order Finished</td>\n",
       "      <td>NaN</td>\n",
       "      <td>2012-12-29</td>\n",
       "      <td>27</td>\n",
       "      <td>352200</td>\n",
       "      <td>0.09</td>\n",
       "      <td>31698</td>\n",
       "      <td>Office Supplies</td>\n",
       "      <td>Paper</td>\n",
       "      <td>2012</td>\n",
       "    </tr>\n",
       "    <tr>\n",
       "      <th>3685</th>\n",
       "      <td>49344</td>\n",
       "      <td>Order Finished</td>\n",
       "      <td>NaN</td>\n",
       "      <td>2012-12-30</td>\n",
       "      <td>31</td>\n",
       "      <td>1345860</td>\n",
       "      <td>0.00</td>\n",
       "      <td>0</td>\n",
       "      <td>Technology</td>\n",
       "      <td>Computer Peripherals</td>\n",
       "      <td>2012</td>\n",
       "    </tr>\n",
       "    <tr>\n",
       "      <th>1468</th>\n",
       "      <td>25542</td>\n",
       "      <td>Order Finished</td>\n",
       "      <td>NaN</td>\n",
       "      <td>2012-12-30</td>\n",
       "      <td>37</td>\n",
       "      <td>514920</td>\n",
       "      <td>0.09</td>\n",
       "      <td>46343</td>\n",
       "      <td>Office Supplies</td>\n",
       "      <td>Paper</td>\n",
       "      <td>2012</td>\n",
       "    </tr>\n",
       "    <tr>\n",
       "      <th>4203</th>\n",
       "      <td>47815</td>\n",
       "      <td>Order Finished</td>\n",
       "      <td>NaN</td>\n",
       "      <td>2012-12-30</td>\n",
       "      <td>45</td>\n",
       "      <td>1161920</td>\n",
       "      <td>0.08</td>\n",
       "      <td>92954</td>\n",
       "      <td>Furniture</td>\n",
       "      <td>Office Furnishings</td>\n",
       "      <td>2012</td>\n",
       "    </tr>\n",
       "    <tr>\n",
       "      <th>4754</th>\n",
       "      <td>50950</td>\n",
       "      <td>Order Finished</td>\n",
       "      <td>NaN</td>\n",
       "      <td>2012-12-30</td>\n",
       "      <td>6</td>\n",
       "      <td>782240</td>\n",
       "      <td>0.06</td>\n",
       "      <td>46934</td>\n",
       "      <td>Furniture</td>\n",
       "      <td>Chairs&amp;Chairmats</td>\n",
       "      <td>2012</td>\n",
       "    </tr>\n",
       "  </tbody>\n",
       "</table>\n",
       "<p>4924 rows × 11 columns</p>\n",
       "</div>"
      ],
      "text/plain": [
       "     order_id    order_status           customer order_date  order_quantity  \\\n",
       "2897    28774  Order Finished     Jessica Myrick 2009-01-01              32   \n",
       "902      9285  Order Finished     David Philippe 2009-01-02               3   \n",
       "4642    37537  Order Finished  Alan Schoenberger 2009-01-02               4   \n",
       "4697    44069  Order Finished  Elizabeth Moffitt 2009-01-02              16   \n",
       "5143     7909  Order Finished       Alex Russell 2009-01-03              29   \n",
       "...       ...             ...                ...        ...             ...   \n",
       "613     13507  Order Finished                NaN 2012-12-29              27   \n",
       "3685    49344  Order Finished                NaN 2012-12-30              31   \n",
       "1468    25542  Order Finished                NaN 2012-12-30              37   \n",
       "4203    47815  Order Finished                NaN 2012-12-30              45   \n",
       "4754    50950  Order Finished                NaN 2012-12-30               6   \n",
       "\n",
       "        sales  discount  discount_value product_category  \\\n",
       "2897   360720      0.10           36072  Office Supplies   \n",
       "902    249620      0.06           14977  Office Supplies   \n",
       "4642  2478120      0.00               0        Furniture   \n",
       "4697   275260      0.09           24773  Office Supplies   \n",
       "5143   244460      0.03            7334  Office Supplies   \n",
       "...       ...       ...             ...              ...   \n",
       "613    352200      0.09           31698  Office Supplies   \n",
       "3685  1345860      0.00               0       Technology   \n",
       "1468   514920      0.09           46343  Office Supplies   \n",
       "4203  1161920      0.08           92954        Furniture   \n",
       "4754   782240      0.06           46934        Furniture   \n",
       "\n",
       "               product_sub_category  years  \n",
       "2897           Storage&Organization   2009  \n",
       "902   Bindersand Binder Accessories   2009  \n",
       "4642               Chairs&Chairmats   2009  \n",
       "4697                          Paper   2009  \n",
       "5143              Pens&Art Supplies   2009  \n",
       "...                             ...    ...  \n",
       "613                           Paper   2012  \n",
       "3685           Computer Peripherals   2012  \n",
       "1468                          Paper   2012  \n",
       "4203             Office Furnishings   2012  \n",
       "4754               Chairs&Chairmats   2012  \n",
       "\n",
       "[4924 rows x 11 columns]"
      ]
     },
     "execution_count": 55,
     "metadata": {},
     "output_type": "execute_result"
    }
   ],
   "source": [
    "# delete Duplicate\n",
    "NBA['customer'] = NBA['customer'].drop_duplicates()\n",
    "NBA"
   ]
  },
  {
   "cell_type": "code",
   "execution_count": 56,
   "metadata": {},
   "outputs": [],
   "source": [
    "# delete missing value\n",
    "NBA.dropna(how='any', inplace=True)"
   ]
  },
  {
   "cell_type": "code",
   "execution_count": 57,
   "metadata": {},
   "outputs": [
    {
     "data": {
      "text/html": [
       "<div>\n",
       "<style scoped>\n",
       "    .dataframe tbody tr th:only-of-type {\n",
       "        vertical-align: middle;\n",
       "    }\n",
       "\n",
       "    .dataframe tbody tr th {\n",
       "        vertical-align: top;\n",
       "    }\n",
       "\n",
       "    .dataframe thead th {\n",
       "        text-align: right;\n",
       "    }\n",
       "</style>\n",
       "<table border=\"1\" class=\"dataframe\">\n",
       "  <thead>\n",
       "    <tr style=\"text-align: right;\">\n",
       "      <th></th>\n",
       "      <th>number_of_new_customer</th>\n",
       "    </tr>\n",
       "    <tr>\n",
       "      <th>years</th>\n",
       "      <th></th>\n",
       "    </tr>\n",
       "  </thead>\n",
       "  <tbody>\n",
       "    <tr>\n",
       "      <th>2009</th>\n",
       "      <td>585</td>\n",
       "    </tr>\n",
       "    <tr>\n",
       "      <th>2010</th>\n",
       "      <td>141</td>\n",
       "    </tr>\n",
       "    <tr>\n",
       "      <th>2011</th>\n",
       "      <td>38</td>\n",
       "    </tr>\n",
       "    <tr>\n",
       "      <th>2012</th>\n",
       "      <td>11</td>\n",
       "    </tr>\n",
       "  </tbody>\n",
       "</table>\n",
       "</div>"
      ],
      "text/plain": [
       "       number_of_new_customer\n",
       "years                        \n",
       "2009                      585\n",
       "2010                      141\n",
       "2011                       38\n",
       "2012                       11"
      ]
     },
     "execution_count": 57,
     "metadata": {},
     "output_type": "execute_result"
    }
   ],
   "source": [
    "# Group by year and aggregate data for the customer column\n",
    "NBA = NBA.groupby(['years']).agg({'customer':pd.Series.nunique})\n",
    "NBA = NBA.rename(columns={'customer':'number_of_new_customer'})\n",
    "NBA"
   ]
  },
  {
   "cell_type": "code",
   "execution_count": 58,
   "metadata": {},
   "outputs": [
    {
     "data": {
      "text/html": [
       "<div>\n",
       "<style scoped>\n",
       "    .dataframe tbody tr th:only-of-type {\n",
       "        vertical-align: middle;\n",
       "    }\n",
       "\n",
       "    .dataframe tbody tr th {\n",
       "        vertical-align: top;\n",
       "    }\n",
       "\n",
       "    .dataframe thead th {\n",
       "        text-align: right;\n",
       "    }\n",
       "</style>\n",
       "<table border=\"1\" class=\"dataframe\">\n",
       "  <thead>\n",
       "    <tr style=\"text-align: right;\">\n",
       "      <th></th>\n",
       "      <th>number_of_Unique_customer</th>\n",
       "      <th>number_of_new_customer</th>\n",
       "    </tr>\n",
       "    <tr>\n",
       "      <th>years</th>\n",
       "      <th></th>\n",
       "      <th></th>\n",
       "    </tr>\n",
       "  </thead>\n",
       "  <tbody>\n",
       "    <tr>\n",
       "      <th>2009</th>\n",
       "      <td>585</td>\n",
       "      <td>585</td>\n",
       "    </tr>\n",
       "    <tr>\n",
       "      <th>2010</th>\n",
       "      <td>593</td>\n",
       "      <td>141</td>\n",
       "    </tr>\n",
       "    <tr>\n",
       "      <th>2011</th>\n",
       "      <td>581</td>\n",
       "      <td>38</td>\n",
       "    </tr>\n",
       "    <tr>\n",
       "      <th>2012</th>\n",
       "      <td>594</td>\n",
       "      <td>11</td>\n",
       "    </tr>\n",
       "  </tbody>\n",
       "</table>\n",
       "</div>"
      ],
      "text/plain": [
       "       number_of_Unique_customer  number_of_new_customer\n",
       "years                                                   \n",
       "2009                         585                     585\n",
       "2010                         593                     141\n",
       "2011                         581                      38\n",
       "2012                         594                      11"
      ]
     },
     "execution_count": 58,
     "metadata": {},
     "output_type": "execute_result"
    }
   ],
   "source": [
    "# Combine the NBA and CITY data frames by taking the years Total unique customer and total new customer columns\n",
    "NTB = pd.merge(CTY, NBA, on='years')\n",
    "NTB"
   ]
  },
  {
   "cell_type": "code",
   "execution_count": 59,
   "metadata": {},
   "outputs": [],
   "source": [
    "# Create a growth percentage from the number of new customers in the column.\n",
    "i = 0\n",
    "growth_new_customer = []\n",
    "while i <len(NTB):\n",
    "    if i == 0:\n",
    "        growth_new_customer.append(0)\n",
    "        i+=1\n",
    "\n",
    "    growth_new_customer.append(round(((NTB.iloc[i,1]/NTB.iloc[i-1,1])-1),2))\n",
    "    i+=1"
   ]
  },
  {
   "cell_type": "code",
   "execution_count": 60,
   "metadata": {},
   "outputs": [
    {
     "data": {
      "text/html": [
       "<div>\n",
       "<style scoped>\n",
       "    .dataframe tbody tr th:only-of-type {\n",
       "        vertical-align: middle;\n",
       "    }\n",
       "\n",
       "    .dataframe tbody tr th {\n",
       "        vertical-align: top;\n",
       "    }\n",
       "\n",
       "    .dataframe thead th {\n",
       "        text-align: right;\n",
       "    }\n",
       "</style>\n",
       "<table border=\"1\" class=\"dataframe\">\n",
       "  <thead>\n",
       "    <tr style=\"text-align: right;\">\n",
       "      <th></th>\n",
       "      <th>number_of_Unique_customer</th>\n",
       "      <th>number_of_new_customer</th>\n",
       "      <th>growth_new_customer_%</th>\n",
       "    </tr>\n",
       "    <tr>\n",
       "      <th>years</th>\n",
       "      <th></th>\n",
       "      <th></th>\n",
       "      <th></th>\n",
       "    </tr>\n",
       "  </thead>\n",
       "  <tbody>\n",
       "    <tr>\n",
       "      <th>2009</th>\n",
       "      <td>585</td>\n",
       "      <td>585</td>\n",
       "      <td>0.00</td>\n",
       "    </tr>\n",
       "    <tr>\n",
       "      <th>2010</th>\n",
       "      <td>593</td>\n",
       "      <td>141</td>\n",
       "      <td>-0.76</td>\n",
       "    </tr>\n",
       "    <tr>\n",
       "      <th>2011</th>\n",
       "      <td>581</td>\n",
       "      <td>38</td>\n",
       "      <td>-0.73</td>\n",
       "    </tr>\n",
       "    <tr>\n",
       "      <th>2012</th>\n",
       "      <td>594</td>\n",
       "      <td>11</td>\n",
       "      <td>-0.71</td>\n",
       "    </tr>\n",
       "  </tbody>\n",
       "</table>\n",
       "</div>"
      ],
      "text/plain": [
       "       number_of_Unique_customer  number_of_new_customer  \\\n",
       "years                                                      \n",
       "2009                         585                     585   \n",
       "2010                         593                     141   \n",
       "2011                         581                      38   \n",
       "2012                         594                      11   \n",
       "\n",
       "       growth_new_customer_%  \n",
       "years                         \n",
       "2009                    0.00  \n",
       "2010                   -0.76  \n",
       "2011                   -0.73  \n",
       "2012                   -0.71  "
      ]
     },
     "execution_count": 60,
     "metadata": {},
     "output_type": "execute_result"
    }
   ],
   "source": [
    "# make a new column with the growth percentage \n",
    "NTB['growth_new_customer_%'] = growth_new_customer\n",
    "NTB"
   ]
  },
  {
   "cell_type": "markdown",
   "metadata": {},
   "source": [
    "Suggest and advise:\n",
    "\n",
    "1. In 2009-2011, there was no significant growth in sales and growth orders, but in 2012, there was a significant increase in growth sales and growth orders.\n",
    "2. In 2011-2012, the scissors, ruler, and trimmer subcategories had a growth order increase of three points, but their growth sales increased by 191%. but there are also 5 subcategories that have negative sales growth.\n",
    "3. There was no significant increase in sales growth from 2009-2012, which means that the promotion was less effective than the burn rate data; the increase was only around 5%.\n",
    "4. For new customers, it has decreased every year; even the decline obtained through analysis has reached 70%."
   ]
  },
  {
   "cell_type": "markdown",
   "metadata": {},
   "source": [
    "advise:\n",
    "Create a new marketing strategy or ads which can significantly bring in new unique customers."
   ]
  },
  {
   "cell_type": "markdown",
   "metadata": {},
   "source": [
    "Refrence:\n",
    "1. Data Analyst Role: Apply Data Analysis Flowchart to measure Company Performance with SQL by Nelda Ampulembang Parenta: https://www.youtube.com/watch?v=J2BbebBcud4\n",
    "2. Cohort Analysis & Customer Segmentation with RFM by Mahmoud El Fahl : https://www.kaggle.com/mahmoudelfahl/cohort-analysis-customer-segmentation-with-rfm#Let's-Make-Cohort-Analysis/\n",
    "3. Customer Retention & Cohort Analysis | How VCs Calculate Customer Retention by Eric Andrews : https://www.youtube.com/watch?v=OwCATJh4lNg\n",
    "4. Overall Analysis by DHAWY FARRAS PUTRA : https://www.kaggle.com/code/dhawyfarrasputra/overall-analysis-and-cohort-analysis"
   ]
  }
 ],
 "metadata": {
  "kernelspec": {
   "display_name": "Python 3.10.8 64-bit",
   "language": "python",
   "name": "python3"
  },
  "language_info": {
   "codemirror_mode": {
    "name": "ipython",
    "version": 3
   },
   "file_extension": ".py",
   "mimetype": "text/x-python",
   "name": "python",
   "nbconvert_exporter": "python",
   "pygments_lexer": "ipython3",
   "version": "3.10.8"
  },
  "orig_nbformat": 4,
  "vscode": {
   "interpreter": {
    "hash": "3196968d684371006099b3d55edeef8ed90365227a30deaef86e5d4aa8519be0"
   }
  }
 },
 "nbformat": 4,
 "nbformat_minor": 2
}
